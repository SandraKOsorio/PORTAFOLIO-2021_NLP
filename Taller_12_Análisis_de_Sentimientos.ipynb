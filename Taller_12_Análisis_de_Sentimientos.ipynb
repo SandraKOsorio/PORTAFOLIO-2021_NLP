{
  "nbformat": 4,
  "nbformat_minor": 0,
  "metadata": {
    "kernelspec": {
      "display_name": "Python 3",
      "language": "python",
      "name": "python3"
    },
    "language_info": {
      "codemirror_mode": {
        "name": "ipython",
        "version": 3
      },
      "file_extension": ".py",
      "mimetype": "text/x-python",
      "name": "python",
      "nbconvert_exporter": "python",
      "pygments_lexer": "ipython3",
      "version": "3.8.8"
    },
    "colab": {
      "name": "Taller 12_Análisis de Sentimientos.ipynb",
      "provenance": [],
      "collapsed_sections": [],
      "toc_visible": true
    }
  },
  "cells": [
    {
      "cell_type": "markdown",
      "metadata": {
        "id": "4TjZCUN-z6ne"
      },
      "source": [
        "<img src='https://encrypted-tbn0.gstatic.com/images?q=tbn%3AANd9GcQ-VfNtOyJbsaxu43Kztf_cv1mgBG6ZIQZEVw&usqp=CAU'>\n",
        "\n",
        "# Procesamiento de Lenguaje Natural\n",
        "\n",
        "##**Taller # 12: Análisis de sentimiento**\n",
        "`Fecha de entrega: Mayo 27, 2021 (Antes del inicio de la próxima clase).`\n",
        "\n",
        "`Modo de entrega: Subir link de GitHub al aula virtual.`"
      ]
    },
    {
      "cell_type": "markdown",
      "metadata": {
        "id": "9lBVfYk5z6ng"
      },
      "source": [
        "## **[25 pts] Punto 1: Hacer análisis de sentimiento de los datos del anterior talle**r\n",
        "- Columna con el puntaje numérico del sentimiento\n",
        "- Pueden usar cualquiera de las librerias vistas en clase"
      ]
    },
    {
      "cell_type": "markdown",
      "metadata": {
        "id": "3PqQl4HDz6nh"
      },
      "source": [
        "### **Librerías**"
      ]
    },
    {
      "cell_type": "code",
      "metadata": {
        "colab": {
          "base_uri": "https://localhost:8080/"
        },
        "id": "K1Sqg00b1_Vf",
        "outputId": "97dea500-ad8e-45f0-c3de-1e224bee1826"
      },
      "source": [
        "!pip install flair"
      ],
      "execution_count": 31,
      "outputs": [
        {
          "output_type": "stream",
          "text": [
            "Requirement already satisfied: flair in /usr/local/lib/python3.7/dist-packages (0.8.0.post1)\n",
            "Requirement already satisfied: tqdm>=4.26.0 in /usr/local/lib/python3.7/dist-packages (from flair) (4.41.1)\n",
            "Requirement already satisfied: sqlitedict>=1.6.0 in /usr/local/lib/python3.7/dist-packages (from flair) (1.7.0)\n",
            "Requirement already satisfied: segtok>=1.5.7 in /usr/local/lib/python3.7/dist-packages (from flair) (1.5.10)\n",
            "Requirement already satisfied: tabulate in /usr/local/lib/python3.7/dist-packages (from flair) (0.8.9)\n",
            "Requirement already satisfied: bpemb>=0.3.2 in /usr/local/lib/python3.7/dist-packages (from flair) (0.3.3)\n",
            "Requirement already satisfied: janome in /usr/local/lib/python3.7/dist-packages (from flair) (0.4.1)\n",
            "Requirement already satisfied: deprecated>=1.2.4 in /usr/local/lib/python3.7/dist-packages (from flair) (1.2.12)\n",
            "Requirement already satisfied: transformers>=4.0.0 in /usr/local/lib/python3.7/dist-packages (from flair) (4.6.1)\n",
            "Requirement already satisfied: hyperopt>=0.1.1 in /usr/local/lib/python3.7/dist-packages (from flair) (0.1.2)\n",
            "Requirement already satisfied: ftfy in /usr/local/lib/python3.7/dist-packages (from flair) (6.0.3)\n",
            "Requirement already satisfied: gensim<=3.8.3,>=3.4.0 in /usr/local/lib/python3.7/dist-packages (from flair) (3.6.0)\n",
            "Requirement already satisfied: mpld3==0.3 in /usr/local/lib/python3.7/dist-packages (from flair) (0.3)\n",
            "Requirement already satisfied: gdown==3.12.2 in /usr/local/lib/python3.7/dist-packages (from flair) (3.12.2)\n",
            "Requirement already satisfied: konoha<5.0.0,>=4.0.0 in /usr/local/lib/python3.7/dist-packages (from flair) (4.6.5)\n",
            "Requirement already satisfied: numpy<1.20.0 in /usr/local/lib/python3.7/dist-packages (from flair) (1.19.5)\n",
            "Requirement already satisfied: matplotlib>=2.2.3 in /usr/local/lib/python3.7/dist-packages (from flair) (3.2.2)\n",
            "Requirement already satisfied: huggingface-hub in /usr/local/lib/python3.7/dist-packages (from flair) (0.0.9)\n",
            "Requirement already satisfied: python-dateutil>=2.6.1 in /usr/local/lib/python3.7/dist-packages (from flair) (2.8.1)\n",
            "Requirement already satisfied: regex in /usr/local/lib/python3.7/dist-packages (from flair) (2019.12.20)\n",
            "Requirement already satisfied: torch<=1.7.1,>=1.5.0 in /usr/local/lib/python3.7/dist-packages (from flair) (1.7.1)\n",
            "Requirement already satisfied: sentencepiece==0.1.95 in /usr/local/lib/python3.7/dist-packages (from flair) (0.1.95)\n",
            "Requirement already satisfied: langdetect in /usr/local/lib/python3.7/dist-packages (from flair) (1.0.9)\n",
            "Requirement already satisfied: lxml in /usr/local/lib/python3.7/dist-packages (from flair) (4.2.6)\n",
            "Requirement already satisfied: scikit-learn>=0.21.3 in /usr/local/lib/python3.7/dist-packages (from flair) (0.22.2.post1)\n",
            "Requirement already satisfied: requests in /usr/local/lib/python3.7/dist-packages (from bpemb>=0.3.2->flair) (2.25.1)\n",
            "Requirement already satisfied: wrapt<2,>=1.10 in /usr/local/lib/python3.7/dist-packages (from deprecated>=1.2.4->flair) (1.12.1)\n",
            "Requirement already satisfied: sacremoses in /usr/local/lib/python3.7/dist-packages (from transformers>=4.0.0->flair) (0.0.45)\n",
            "Requirement already satisfied: filelock in /usr/local/lib/python3.7/dist-packages (from transformers>=4.0.0->flair) (3.0.12)\n",
            "Requirement already satisfied: importlib-metadata; python_version < \"3.8\" in /usr/local/lib/python3.7/dist-packages (from transformers>=4.0.0->flair) (3.10.1)\n",
            "Requirement already satisfied: tokenizers<0.11,>=0.10.1 in /usr/local/lib/python3.7/dist-packages (from transformers>=4.0.0->flair) (0.10.3)\n",
            "Requirement already satisfied: packaging in /usr/local/lib/python3.7/dist-packages (from transformers>=4.0.0->flair) (20.9)\n",
            "Requirement already satisfied: networkx in /usr/local/lib/python3.7/dist-packages (from hyperopt>=0.1.1->flair) (2.5.1)\n",
            "Requirement already satisfied: pymongo in /usr/local/lib/python3.7/dist-packages (from hyperopt>=0.1.1->flair) (3.11.4)\n",
            "Requirement already satisfied: future in /usr/local/lib/python3.7/dist-packages (from hyperopt>=0.1.1->flair) (0.16.0)\n",
            "Requirement already satisfied: scipy in /usr/local/lib/python3.7/dist-packages (from hyperopt>=0.1.1->flair) (1.4.1)\n",
            "Requirement already satisfied: six in /usr/local/lib/python3.7/dist-packages (from hyperopt>=0.1.1->flair) (1.15.0)\n",
            "Requirement already satisfied: wcwidth in /usr/local/lib/python3.7/dist-packages (from ftfy->flair) (0.2.5)\n",
            "Requirement already satisfied: smart-open>=1.2.1 in /usr/local/lib/python3.7/dist-packages (from gensim<=3.8.3,>=3.4.0->flair) (5.0.0)\n",
            "Requirement already satisfied: overrides<4.0.0,>=3.0.0 in /usr/local/lib/python3.7/dist-packages (from konoha<5.0.0,>=4.0.0->flair) (3.1.0)\n",
            "Requirement already satisfied: cycler>=0.10 in /usr/local/lib/python3.7/dist-packages (from matplotlib>=2.2.3->flair) (0.10.0)\n",
            "Requirement already satisfied: kiwisolver>=1.0.1 in /usr/local/lib/python3.7/dist-packages (from matplotlib>=2.2.3->flair) (1.3.1)\n",
            "Requirement already satisfied: pyparsing!=2.0.4,!=2.1.2,!=2.1.6,>=2.0.1 in /usr/local/lib/python3.7/dist-packages (from matplotlib>=2.2.3->flair) (2.4.7)\n",
            "Requirement already satisfied: typing-extensions in /usr/local/lib/python3.7/dist-packages (from huggingface-hub->flair) (3.7.4.3)\n",
            "Requirement already satisfied: joblib>=0.11 in /usr/local/lib/python3.7/dist-packages (from scikit-learn>=0.21.3->flair) (1.0.1)\n",
            "Requirement already satisfied: idna<3,>=2.5 in /usr/local/lib/python3.7/dist-packages (from requests->bpemb>=0.3.2->flair) (2.10)\n",
            "Requirement already satisfied: chardet<5,>=3.0.2 in /usr/local/lib/python3.7/dist-packages (from requests->bpemb>=0.3.2->flair) (3.0.4)\n",
            "Requirement already satisfied: certifi>=2017.4.17 in /usr/local/lib/python3.7/dist-packages (from requests->bpemb>=0.3.2->flair) (2020.12.5)\n",
            "Requirement already satisfied: urllib3<1.27,>=1.21.1 in /usr/local/lib/python3.7/dist-packages (from requests->bpemb>=0.3.2->flair) (1.24.3)\n",
            "Requirement already satisfied: click in /usr/local/lib/python3.7/dist-packages (from sacremoses->transformers>=4.0.0->flair) (7.1.2)\n",
            "Requirement already satisfied: zipp>=0.5 in /usr/local/lib/python3.7/dist-packages (from importlib-metadata; python_version < \"3.8\"->transformers>=4.0.0->flair) (3.4.1)\n",
            "Requirement already satisfied: decorator<5,>=4.3 in /usr/local/lib/python3.7/dist-packages (from networkx->hyperopt>=0.1.1->flair) (4.4.2)\n"
          ],
          "name": "stdout"
        }
      ]
    },
    {
      "cell_type": "code",
      "metadata": {
        "id": "M1wHXdF8z6nh"
      },
      "source": [
        "import pandas as pd\n",
        "from flair.models import TextClassifier\n",
        "from flair.data import Sentence"
      ],
      "execution_count": 44,
      "outputs": []
    },
    {
      "cell_type": "markdown",
      "metadata": {
        "id": "hdTwb1DHz6ni"
      },
      "source": [
        "###**Cargar datos**"
      ]
    },
    {
      "cell_type": "code",
      "metadata": {
        "colab": {
          "base_uri": "https://localhost:8080/",
          "height": 296
        },
        "id": "bDu2AZxmz6nj",
        "outputId": "12ef1248-6959-4e0a-d176-6d8c043e75a1"
      },
      "source": [
        "data = pd.read_csv('Tweets.csv')\n",
        "print(f\"Tenemos {data.shape[0]} registros.\")\n",
        "data.sample(5)"
      ],
      "execution_count": 45,
      "outputs": [
        {
          "output_type": "stream",
          "text": [
            "Tenemos 100 registros.\n"
          ],
          "name": "stdout"
        },
        {
          "output_type": "execute_result",
          "data": {
            "text/html": [
              "<div>\n",
              "<style scoped>\n",
              "    .dataframe tbody tr th:only-of-type {\n",
              "        vertical-align: middle;\n",
              "    }\n",
              "\n",
              "    .dataframe tbody tr th {\n",
              "        vertical-align: top;\n",
              "    }\n",
              "\n",
              "    .dataframe thead th {\n",
              "        text-align: right;\n",
              "    }\n",
              "</style>\n",
              "<table border=\"1\" class=\"dataframe\">\n",
              "  <thead>\n",
              "    <tr style=\"text-align: right;\">\n",
              "      <th></th>\n",
              "      <th>tweets</th>\n",
              "      <th>date</th>\n",
              "      <th>city</th>\n",
              "      <th>user_location</th>\n",
              "      <th>id</th>\n",
              "      <th>link</th>\n",
              "    </tr>\n",
              "  </thead>\n",
              "  <tbody>\n",
              "    <tr>\n",
              "      <th>10</th>\n",
              "      <td>#SosColombia \\n-Colombia en crisis social deri...</td>\n",
              "      <td>2021-05-14 03:11:42</td>\n",
              "      <td>Cali</td>\n",
              "      <td>Guadalajara de Buga, Colombia</td>\n",
              "      <td>1393041301369655307</td>\n",
              "      <td>https://twitter.com/i/web/stuatus/139304130136...</td>\n",
              "    </tr>\n",
              "    <tr>\n",
              "      <th>9</th>\n",
              "      <td>@wilsonariasc buenas noches para contarle qué ...</td>\n",
              "      <td>2021-05-14 03:12:36</td>\n",
              "      <td>Cali</td>\n",
              "      <td>cali - colombia</td>\n",
              "      <td>1393041527576870913</td>\n",
              "      <td>https://twitter.com/i/web/stuatus/139304152757...</td>\n",
              "    </tr>\n",
              "    <tr>\n",
              "      <th>96</th>\n",
              "      <td>@CONMEBOL gracias por encubrir los muertos que...</td>\n",
              "      <td>2021-05-14 00:17:47</td>\n",
              "      <td>Cali</td>\n",
              "      <td>Cali Colombia</td>\n",
              "      <td>1392997532977049601</td>\n",
              "      <td>https://twitter.com/i/web/stuatus/139299753297...</td>\n",
              "    </tr>\n",
              "    <tr>\n",
              "      <th>82</th>\n",
              "      <td>@ESPNColombia #LIBERTADORESxESPN No Queremos F...</td>\n",
              "      <td>2021-05-14 00:43:27</td>\n",
              "      <td>Cali</td>\n",
              "      <td>Cali, Colombia</td>\n",
              "      <td>1393003992175759361</td>\n",
              "      <td>https://twitter.com/i/web/stuatus/139300399217...</td>\n",
              "    </tr>\n",
              "    <tr>\n",
              "      <th>48</th>\n",
              "      <td>Por primera vez siento que en Colombia el pueb...</td>\n",
              "      <td>2021-05-14 01:53:26</td>\n",
              "      <td>Cali</td>\n",
              "      <td>Colombia</td>\n",
              "      <td>1393021605572399110</td>\n",
              "      <td>https://twitter.com/i/web/stuatus/139302160557...</td>\n",
              "    </tr>\n",
              "  </tbody>\n",
              "</table>\n",
              "</div>"
            ],
            "text/plain": [
              "                                               tweets  ...                                               link\n",
              "10  #SosColombia \\n-Colombia en crisis social deri...  ...  https://twitter.com/i/web/stuatus/139304130136...\n",
              "9   @wilsonariasc buenas noches para contarle qué ...  ...  https://twitter.com/i/web/stuatus/139304152757...\n",
              "96  @CONMEBOL gracias por encubrir los muertos que...  ...  https://twitter.com/i/web/stuatus/139299753297...\n",
              "82  @ESPNColombia #LIBERTADORESxESPN No Queremos F...  ...  https://twitter.com/i/web/stuatus/139300399217...\n",
              "48  Por primera vez siento que en Colombia el pueb...  ...  https://twitter.com/i/web/stuatus/139302160557...\n",
              "\n",
              "[5 rows x 6 columns]"
            ]
          },
          "metadata": {
            "tags": []
          },
          "execution_count": 45
        }
      ]
    },
    {
      "cell_type": "markdown",
      "metadata": {
        "id": "fXfpuvu7z6nk"
      },
      "source": [
        "### **Análisis de sentimientos - Modelo basado en Redes Neuronales**"
      ]
    },
    {
      "cell_type": "code",
      "metadata": {
        "colab": {
          "base_uri": "https://localhost:8080/",
          "height": 212
        },
        "id": "eZ3SX29Iz6nk",
        "outputId": "35824955-90ba-4ad7-8f8d-d50707e05390"
      },
      "source": [
        "classifier = TextClassifier.load('sentiment')\n",
        "\n",
        "def sent_flair(texto):\n",
        "    sentence = Sentence(texto)\n",
        "    classifier.predict(sentence)\n",
        "    result = sentence.labels[0]\n",
        "    label = result.value\n",
        "    score = result.score\n",
        "    if label == 'POSITIVE':\n",
        "        return score\n",
        "    if label == 'NEGATIVE':\n",
        "        return -1 * score\n",
        "    return score\n",
        "\n",
        "data['sent_flair'] = data['tweets'].apply(lambda valor: sent_flair(valor))\n",
        "data.head()"
      ],
      "execution_count": 46,
      "outputs": [
        {
          "output_type": "stream",
          "text": [
            "2021-05-26 23:14:32,104 loading file /root/.flair/models/sentiment-en-mix-distillbert_4.pt\n"
          ],
          "name": "stdout"
        },
        {
          "output_type": "execute_result",
          "data": {
            "text/html": [
              "<div>\n",
              "<style scoped>\n",
              "    .dataframe tbody tr th:only-of-type {\n",
              "        vertical-align: middle;\n",
              "    }\n",
              "\n",
              "    .dataframe tbody tr th {\n",
              "        vertical-align: top;\n",
              "    }\n",
              "\n",
              "    .dataframe thead th {\n",
              "        text-align: right;\n",
              "    }\n",
              "</style>\n",
              "<table border=\"1\" class=\"dataframe\">\n",
              "  <thead>\n",
              "    <tr style=\"text-align: right;\">\n",
              "      <th></th>\n",
              "      <th>tweets</th>\n",
              "      <th>date</th>\n",
              "      <th>city</th>\n",
              "      <th>user_location</th>\n",
              "      <th>id</th>\n",
              "      <th>link</th>\n",
              "      <th>sent_flair</th>\n",
              "    </tr>\n",
              "  </thead>\n",
              "  <tbody>\n",
              "    <tr>\n",
              "      <th>0</th>\n",
              "      <td>@GustavoBolivar  buenas noches para contarle q...</td>\n",
              "      <td>2021-05-14 03:23:14</td>\n",
              "      <td>Cali</td>\n",
              "      <td>cali - colombia</td>\n",
              "      <td>1393044205778489347</td>\n",
              "      <td>https://twitter.com/i/web/stuatus/139304420577...</td>\n",
              "      <td>0.993993</td>\n",
              "    </tr>\n",
              "    <tr>\n",
              "      <th>1</th>\n",
              "      <td>@andresmarocco No tiene sentido realizar la Co...</td>\n",
              "      <td>2021-05-14 03:19:25</td>\n",
              "      <td>Cali</td>\n",
              "      <td>Colombia</td>\n",
              "      <td>1393043242443288578</td>\n",
              "      <td>https://twitter.com/i/web/stuatus/139304324244...</td>\n",
              "      <td>0.991847</td>\n",
              "    </tr>\n",
              "    <tr>\n",
              "      <th>2</th>\n",
              "      <td>@petrogustavo  buenas noches para contarle qué...</td>\n",
              "      <td>2021-05-14 03:18:57</td>\n",
              "      <td>Cali</td>\n",
              "      <td>cali - colombia</td>\n",
              "      <td>1393043126143655939</td>\n",
              "      <td>https://twitter.com/i/web/stuatus/139304312614...</td>\n",
              "      <td>0.975813</td>\n",
              "    </tr>\n",
              "    <tr>\n",
              "      <th>3</th>\n",
              "      <td>@IvanCepedaCast  buenas noches para contarle q...</td>\n",
              "      <td>2021-05-14 03:18:04</td>\n",
              "      <td>Cali</td>\n",
              "      <td>cali - colombia</td>\n",
              "      <td>1393042902264262658</td>\n",
              "      <td>https://twitter.com/i/web/stuatus/139304290226...</td>\n",
              "      <td>0.957895</td>\n",
              "    </tr>\n",
              "    <tr>\n",
              "      <th>4</th>\n",
              "      <td>@fdbedout buenas noches para contarle qué mien...</td>\n",
              "      <td>2021-05-14 03:17:27</td>\n",
              "      <td>Cali</td>\n",
              "      <td>cali - colombia</td>\n",
              "      <td>1393042750606614533</td>\n",
              "      <td>https://twitter.com/i/web/stuatus/139304275060...</td>\n",
              "      <td>0.956393</td>\n",
              "    </tr>\n",
              "  </tbody>\n",
              "</table>\n",
              "</div>"
            ],
            "text/plain": [
              "                                              tweets  ... sent_flair\n",
              "0  @GustavoBolivar  buenas noches para contarle q...  ...   0.993993\n",
              "1  @andresmarocco No tiene sentido realizar la Co...  ...   0.991847\n",
              "2  @petrogustavo  buenas noches para contarle qué...  ...   0.975813\n",
              "3  @IvanCepedaCast  buenas noches para contarle q...  ...   0.957895\n",
              "4  @fdbedout buenas noches para contarle qué mien...  ...   0.956393\n",
              "\n",
              "[5 rows x 7 columns]"
            ]
          },
          "metadata": {
            "tags": []
          },
          "execution_count": 46
        }
      ]
    },
    {
      "cell_type": "markdown",
      "metadata": {
        "id": "HSE1THp-z6nl"
      },
      "source": [
        "### **Resultados Librería Flair**\n"
      ]
    },
    {
      "cell_type": "code",
      "metadata": {
        "colab": {
          "base_uri": "https://localhost:8080/",
          "height": 399
        },
        "id": "4B8vTHYoz6nl",
        "outputId": "56c2d933-0c95-4de3-a29f-331ad7ac8f12"
      },
      "source": [
        "data[['tweets', 'sent_flair']].sort_values('sent_flair', ascending=False)"
      ],
      "execution_count": 60,
      "outputs": [
        {
          "output_type": "execute_result",
          "data": {
            "text/html": [
              "<div>\n",
              "<style scoped>\n",
              "    .dataframe tbody tr th:only-of-type {\n",
              "        vertical-align: middle;\n",
              "    }\n",
              "\n",
              "    .dataframe tbody tr th {\n",
              "        vertical-align: top;\n",
              "    }\n",
              "\n",
              "    .dataframe thead th {\n",
              "        text-align: right;\n",
              "    }\n",
              "</style>\n",
              "<table border=\"1\" class=\"dataframe\">\n",
              "  <thead>\n",
              "    <tr style=\"text-align: right;\">\n",
              "      <th></th>\n",
              "      <th>tweets</th>\n",
              "      <th>sent_flair</th>\n",
              "    </tr>\n",
              "  </thead>\n",
              "  <tbody>\n",
              "    <tr>\n",
              "      <th>29</th>\n",
              "      <td>CONVOCATORIA RELÁMPAGO:\\nQueremos invitarles a...</td>\n",
              "      <td>0.997703</td>\n",
              "    </tr>\n",
              "    <tr>\n",
              "      <th>7</th>\n",
              "      <td>Tengo amigas haciendo arte, pintando, talleres...</td>\n",
              "      <td>0.997568</td>\n",
              "    </tr>\n",
              "    <tr>\n",
              "      <th>0</th>\n",
              "      <td>@GustavoBolivar  buenas noches para contarle q...</td>\n",
              "      <td>0.993993</td>\n",
              "    </tr>\n",
              "    <tr>\n",
              "      <th>80</th>\n",
              "      <td>Una vez más pasando vergüenzas se detiene por ...</td>\n",
              "      <td>0.993213</td>\n",
              "    </tr>\n",
              "    <tr>\n",
              "      <th>27</th>\n",
              "      <td>@AmericadeCali Una vergüenza prestar el nombre...</td>\n",
              "      <td>0.992862</td>\n",
              "    </tr>\n",
              "    <tr>\n",
              "      <th>...</th>\n",
              "      <td>...</td>\n",
              "      <td>...</td>\n",
              "    </tr>\n",
              "    <tr>\n",
              "      <th>35</th>\n",
              "      <td>Aberrante e indignante. \\nTodo el mundo se deb...</td>\n",
              "      <td>-0.995287</td>\n",
              "    </tr>\n",
              "    <tr>\n",
              "      <th>68</th>\n",
              "      <td>Habrá una palabra más prostituida que”líder, l...</td>\n",
              "      <td>-0.998075</td>\n",
              "    </tr>\n",
              "    <tr>\n",
              "      <th>44</th>\n",
              "      <td>@fdbedout Mindefensa dice: en Colombia se resp...</td>\n",
              "      <td>-0.999381</td>\n",
              "    </tr>\n",
              "    <tr>\n",
              "      <th>45</th>\n",
              "      <td>Atención. Jugadores profesionales de Fútbol en...</td>\n",
              "      <td>-0.999476</td>\n",
              "    </tr>\n",
              "    <tr>\n",
              "      <th>64</th>\n",
              "      <td>@CNNEE Colombia no está en estos momentos para...</td>\n",
              "      <td>-0.999817</td>\n",
              "    </tr>\n",
              "  </tbody>\n",
              "</table>\n",
              "<p>100 rows × 2 columns</p>\n",
              "</div>"
            ],
            "text/plain": [
              "                                               tweets  sent_flair\n",
              "29  CONVOCATORIA RELÁMPAGO:\\nQueremos invitarles a...    0.997703\n",
              "7   Tengo amigas haciendo arte, pintando, talleres...    0.997568\n",
              "0   @GustavoBolivar  buenas noches para contarle q...    0.993993\n",
              "80  Una vez más pasando vergüenzas se detiene por ...    0.993213\n",
              "27  @AmericadeCali Una vergüenza prestar el nombre...    0.992862\n",
              "..                                                ...         ...\n",
              "35  Aberrante e indignante. \\nTodo el mundo se deb...   -0.995287\n",
              "68  Habrá una palabra más prostituida que”líder, l...   -0.998075\n",
              "44  @fdbedout Mindefensa dice: en Colombia se resp...   -0.999381\n",
              "45  Atención. Jugadores profesionales de Fútbol en...   -0.999476\n",
              "64  @CNNEE Colombia no está en estos momentos para...   -0.999817\n",
              "\n",
              "[100 rows x 2 columns]"
            ]
          },
          "metadata": {
            "tags": []
          },
          "execution_count": 60
        }
      ]
    },
    {
      "cell_type": "markdown",
      "metadata": {
        "id": "l-W7o-QQz6nn"
      },
      "source": [
        "###  `[25 pts]` Punto 2: ¿Cuál es el tuit más positivo y más negativo?"
      ]
    },
    {
      "cell_type": "markdown",
      "metadata": {
        "id": "NjOzg8Tfz6nn"
      },
      "source": [
        "### Tuit más :-)\n",
        "**Librería  Flair** "
      ]
    },
    {
      "cell_type": "code",
      "metadata": {
        "colab": {
          "base_uri": "https://localhost:8080/"
        },
        "id": "2HRooUe7z6nn",
        "outputId": "18fc25cd-b815-443d-f2d9-f81300cf1481"
      },
      "source": [
        "positivos = len(data.sent_flair[data.sent_flair>0])\n",
        "print(f\"Total de tuit positivos: {positivos}\")"
      ],
      "execution_count": 53,
      "outputs": [
        {
          "output_type": "stream",
          "text": [
            "Total de tuit positivos: 61\n"
          ],
          "name": "stdout"
        }
      ]
    },
    {
      "cell_type": "code",
      "metadata": {
        "colab": {
          "base_uri": "https://localhost:8080/"
        },
        "id": "CzOY_Dedz6no",
        "outputId": "36b4785d-6826-4ae3-cadc-4d22db91c897"
      },
      "source": [
        "Mas_positivo = data.loc[29]['tweets']\n",
        "print(f\"**Tuit más positivo:** {Mas_positivo}\")"
      ],
      "execution_count": 54,
      "outputs": [
        {
          "output_type": "stream",
          "text": [
            "**Tuit más positivo:** CONVOCATORIA RELÁMPAGO:\n",
            "Queremos invitarles a que nos juntemos para crear el CONJURO SÓNICO\n",
            "Invitamos a compartir archivos sonoros creados durante el Paro nacional en Colombia para ensamblarlos en dos piezas que emitiremos el mcoles 19 en Sonar y conspirar\n",
            "https://t.co/bx38RpM50n\n"
          ],
          "name": "stdout"
        }
      ]
    },
    {
      "cell_type": "markdown",
      "metadata": {
        "id": "nJsnb7msz6nq"
      },
      "source": [
        "### Tuit más :-( \n",
        "**Librería Flair** "
      ]
    },
    {
      "cell_type": "code",
      "metadata": {
        "colab": {
          "base_uri": "https://localhost:8080/"
        },
        "id": "76H1HCnrz6nq",
        "outputId": "2fcb017f-c75b-40e0-c461-b41cfad5817e"
      },
      "source": [
        "negativos = len(data.sent_flair[data.sent_flair<0])\n",
        "print(f\"Total de tuit negativos: {negativos}\")"
      ],
      "execution_count": 61,
      "outputs": [
        {
          "output_type": "stream",
          "text": [
            "Total de tuit negativos: 39\n"
          ],
          "name": "stdout"
        }
      ]
    },
    {
      "cell_type": "code",
      "metadata": {
        "colab": {
          "base_uri": "https://localhost:8080/"
        },
        "id": "7PK3xnaIz6ns",
        "outputId": "3013929d-bacf-4396-ee5c-301236b387f0"
      },
      "source": [
        "Mas_negativo = data.loc[64]['tweets']\n",
        "print(f\"**Tuit más negativo:** {Mas_negativo}\")"
      ],
      "execution_count": 62,
      "outputs": [
        {
          "output_type": "stream",
          "text": [
            "**Tuit más negativo:** @CNNEE Colombia no está en estos momentos para más pan y circo, así que no a la copa, y además el gobierno nacional antes del paro dijo que estaba quebrado económicamente.\n"
          ],
          "name": "stdout"
        }
      ]
    },
    {
      "cell_type": "markdown",
      "metadata": {
        "id": "4SwYnMfsz6nt"
      },
      "source": [
        "**Elaborado por: Sandra Karina Osorio Ch. G51**"
      ]
    }
  ]
}