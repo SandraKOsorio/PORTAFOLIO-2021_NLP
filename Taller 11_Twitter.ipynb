{
 "cells": [
  {
   "cell_type": "markdown",
   "metadata": {},
   "source": [
    "<img src='https://encrypted-tbn0.gstatic.com/images?q=tbn%3AANd9GcQ-VfNtOyJbsaxu43Kztf_cv1mgBG6ZIQZEVw&usqp=CAU'>\n",
    "\n",
    "# Procesamiento de Lenguage Natural\n",
    "\n",
    "## Taller # 11: Twitter\n",
    "`Fecha de entrega: Mayo 20, 2021 (Antes del inicio de la próxima clase).`\n",
    "\n",
    "`Modo de entrega: Subir link de GitHub al aula virtual.`"
   ]
  },
  {
   "cell_type": "markdown",
   "metadata": {},
   "source": [
    "###  `[25 pts]` Punto 1: Extraer Tuits\n",
    "Extraer mínimo 100 tuits de Twitter usando la API\n",
    "\n",
    "❌ No escoger un tema de los que hicimos en clase (día de las madres, Giro de Italia, #EraGoldeYepes)"
   ]
  },
  {
   "cell_type": "code",
   "execution_count": 1,
   "metadata": {},
   "outputs": [],
   "source": [
    "######## Autenticarse con Twitter\n",
    "import pandas as pd\n",
    "import tweepy"
   ]
  },
  {
   "cell_type": "code",
   "execution_count": 2,
   "metadata": {},
   "outputs": [
    {
     "data": {
      "text/plain": [
       "dict_keys(['api_key', 'api_secret_key', 'access_token', 'access_token_secret', 'bearer_token'])"
      ]
     },
     "execution_count": 2,
     "metadata": {},
     "output_type": "execute_result"
    }
   ],
   "source": [
    "keys = pd.read_csv('C:/Users/user/Documents/ESPECIALIZACION/LNP/Archivos/mis_llaves.csv', header=None)\n",
    "keys = dict(zip(keys[0],keys[1]))\n",
    "keys.keys()"
   ]
  },
  {
   "cell_type": "code",
   "execution_count": 3,
   "metadata": {},
   "outputs": [],
   "source": [
    "# Autenticar a través de la API \n",
    "auth = tweepy.OAuthHandler(keys['api_key'], keys['api_secret_key'])\n",
    "auth.set_access_token(keys['access_token'], keys['access_token_secret'])\n",
    "api = tweepy.API(auth, wait_on_rate_limit=True)"
   ]
  },
  {
   "cell_type": "code",
   "execution_count": 4,
   "metadata": {},
   "outputs": [],
   "source": [
    "# Paso 4 Recolectar datos\n",
    "\n",
    "tweets = tweepy.Cursor(api.search,\n",
    "                       q=['paro en Colombia -RT'],\n",
    "                       lang='es',\n",
    "                       geocode='3.42158,-76.5205,200km',\n",
    "                       tweet_mode='extended',\n",
    "                       include_rts=False,\n",
    "                       ).items(100)"
   ]
  },
  {
   "cell_type": "code",
   "execution_count": 5,
   "metadata": {},
   "outputs": [],
   "source": [
    "# Objeto generador\n",
    "t = [tweet for tweet in tweets]"
   ]
  },
  {
   "cell_type": "code",
   "execution_count": 6,
   "metadata": {},
   "outputs": [],
   "source": [
    "t_processed = []\n",
    "\n",
    "for tweet in t: \n",
    "    temp = []\n",
    "    temp.append(tweet.full_text)\n",
    "    temp.append(tweet.created_at)\n",
    "    temp.append('Cali')\n",
    "    temp.append(tweet.user.location)\n",
    "    temp.append(tweet.id)\n",
    "    temp.append(f\"https://twitter.com/i/web/stuatus/{tweet.id}\") \n",
    "    \n",
    "    t_processed.append(temp)"
   ]
  },
  {
   "cell_type": "code",
   "execution_count": 7,
   "metadata": {},
   "outputs": [
    {
     "data": {
      "text/html": [
       "<div>\n",
       "<style scoped>\n",
       "    .dataframe tbody tr th:only-of-type {\n",
       "        vertical-align: middle;\n",
       "    }\n",
       "\n",
       "    .dataframe tbody tr th {\n",
       "        vertical-align: top;\n",
       "    }\n",
       "\n",
       "    .dataframe thead th {\n",
       "        text-align: right;\n",
       "    }\n",
       "</style>\n",
       "<table border=\"1\" class=\"dataframe\">\n",
       "  <thead>\n",
       "    <tr style=\"text-align: right;\">\n",
       "      <th></th>\n",
       "      <th>tweets</th>\n",
       "      <th>date</th>\n",
       "      <th>city</th>\n",
       "      <th>user_location</th>\n",
       "      <th>id</th>\n",
       "      <th>link</th>\n",
       "    </tr>\n",
       "  </thead>\n",
       "  <tbody>\n",
       "    <tr>\n",
       "      <th>0</th>\n",
       "      <td>@GustavoBolivar  buenas noches para contarle q...</td>\n",
       "      <td>2021-05-14 03:23:14</td>\n",
       "      <td>Cali</td>\n",
       "      <td>cali - colombia</td>\n",
       "      <td>1393044205778489347</td>\n",
       "      <td>https://twitter.com/i/web/stuatus/139304420577...</td>\n",
       "    </tr>\n",
       "    <tr>\n",
       "      <th>1</th>\n",
       "      <td>@andresmarocco No tiene sentido realizar la Co...</td>\n",
       "      <td>2021-05-14 03:19:25</td>\n",
       "      <td>Cali</td>\n",
       "      <td>Colombia</td>\n",
       "      <td>1393043242443288578</td>\n",
       "      <td>https://twitter.com/i/web/stuatus/139304324244...</td>\n",
       "    </tr>\n",
       "    <tr>\n",
       "      <th>2</th>\n",
       "      <td>@petrogustavo  buenas noches para contarle qué...</td>\n",
       "      <td>2021-05-14 03:18:57</td>\n",
       "      <td>Cali</td>\n",
       "      <td>cali - colombia</td>\n",
       "      <td>1393043126143655939</td>\n",
       "      <td>https://twitter.com/i/web/stuatus/139304312614...</td>\n",
       "    </tr>\n",
       "    <tr>\n",
       "      <th>3</th>\n",
       "      <td>@IvanCepedaCast  buenas noches para contarle q...</td>\n",
       "      <td>2021-05-14 03:18:04</td>\n",
       "      <td>Cali</td>\n",
       "      <td>cali - colombia</td>\n",
       "      <td>1393042902264262658</td>\n",
       "      <td>https://twitter.com/i/web/stuatus/139304290226...</td>\n",
       "    </tr>\n",
       "    <tr>\n",
       "      <th>4</th>\n",
       "      <td>@fdbedout buenas noches para contarle qué mien...</td>\n",
       "      <td>2021-05-14 03:17:27</td>\n",
       "      <td>Cali</td>\n",
       "      <td>cali - colombia</td>\n",
       "      <td>1393042750606614533</td>\n",
       "      <td>https://twitter.com/i/web/stuatus/139304275060...</td>\n",
       "    </tr>\n",
       "    <tr>\n",
       "      <th>...</th>\n",
       "      <td>...</td>\n",
       "      <td>...</td>\n",
       "      <td>...</td>\n",
       "      <td>...</td>\n",
       "      <td>...</td>\n",
       "      <td>...</td>\n",
       "    </tr>\n",
       "    <tr>\n",
       "      <th>95</th>\n",
       "      <td>Esto es lo que hacen los genocidas del paro gu...</td>\n",
       "      <td>2021-05-14 00:19:16</td>\n",
       "      <td>Cali</td>\n",
       "      <td>Colombia</td>\n",
       "      <td>1392997908597940225</td>\n",
       "      <td>https://twitter.com/i/web/stuatus/139299790859...</td>\n",
       "    </tr>\n",
       "    <tr>\n",
       "      <th>96</th>\n",
       "      <td>@CONMEBOL gracias por encubrir los muertos que...</td>\n",
       "      <td>2021-05-14 00:17:47</td>\n",
       "      <td>Cali</td>\n",
       "      <td>Cali Colombia</td>\n",
       "      <td>1392997532977049601</td>\n",
       "      <td>https://twitter.com/i/web/stuatus/139299753297...</td>\n",
       "    </tr>\n",
       "    <tr>\n",
       "      <th>97</th>\n",
       "      <td>@DianaCalderonF #Hora20 | Sentarse de forma  u...</td>\n",
       "      <td>2021-05-14 00:16:39</td>\n",
       "      <td>Cali</td>\n",
       "      <td>Colombia</td>\n",
       "      <td>1392997248515072000</td>\n",
       "      <td>https://twitter.com/i/web/stuatus/139299724851...</td>\n",
       "    </tr>\n",
       "    <tr>\n",
       "      <th>98</th>\n",
       "      <td>Jupiter entrando en piscis en medio de una cri...</td>\n",
       "      <td>2021-05-14 00:16:11</td>\n",
       "      <td>Cali</td>\n",
       "      <td>Colombia</td>\n",
       "      <td>1392997132148355075</td>\n",
       "      <td>https://twitter.com/i/web/stuatus/139299713214...</td>\n",
       "    </tr>\n",
       "    <tr>\n",
       "      <th>99</th>\n",
       "      <td>:( Si lo conoció en la marcha es el correcto. ...</td>\n",
       "      <td>2021-05-14 00:14:29</td>\n",
       "      <td>Cali</td>\n",
       "      <td>Colombia</td>\n",
       "      <td>1392996705445023748</td>\n",
       "      <td>https://twitter.com/i/web/stuatus/139299670544...</td>\n",
       "    </tr>\n",
       "  </tbody>\n",
       "</table>\n",
       "<p>100 rows × 6 columns</p>\n",
       "</div>"
      ],
      "text/plain": [
       "                                               tweets                date  \\\n",
       "0   @GustavoBolivar  buenas noches para contarle q... 2021-05-14 03:23:14   \n",
       "1   @andresmarocco No tiene sentido realizar la Co... 2021-05-14 03:19:25   \n",
       "2   @petrogustavo  buenas noches para contarle qué... 2021-05-14 03:18:57   \n",
       "3   @IvanCepedaCast  buenas noches para contarle q... 2021-05-14 03:18:04   \n",
       "4   @fdbedout buenas noches para contarle qué mien... 2021-05-14 03:17:27   \n",
       "..                                                ...                 ...   \n",
       "95  Esto es lo que hacen los genocidas del paro gu... 2021-05-14 00:19:16   \n",
       "96  @CONMEBOL gracias por encubrir los muertos que... 2021-05-14 00:17:47   \n",
       "97  @DianaCalderonF #Hora20 | Sentarse de forma  u... 2021-05-14 00:16:39   \n",
       "98  Jupiter entrando en piscis en medio de una cri... 2021-05-14 00:16:11   \n",
       "99  :( Si lo conoció en la marcha es el correcto. ... 2021-05-14 00:14:29   \n",
       "\n",
       "    city    user_location                   id  \\\n",
       "0   Cali  cali - colombia  1393044205778489347   \n",
       "1   Cali        Colombia   1393043242443288578   \n",
       "2   Cali  cali - colombia  1393043126143655939   \n",
       "3   Cali  cali - colombia  1393042902264262658   \n",
       "4   Cali  cali - colombia  1393042750606614533   \n",
       "..   ...              ...                  ...   \n",
       "95  Cali         Colombia  1392997908597940225   \n",
       "96  Cali    Cali Colombia  1392997532977049601   \n",
       "97  Cali         Colombia  1392997248515072000   \n",
       "98  Cali         Colombia  1392997132148355075   \n",
       "99  Cali         Colombia  1392996705445023748   \n",
       "\n",
       "                                                 link  \n",
       "0   https://twitter.com/i/web/stuatus/139304420577...  \n",
       "1   https://twitter.com/i/web/stuatus/139304324244...  \n",
       "2   https://twitter.com/i/web/stuatus/139304312614...  \n",
       "3   https://twitter.com/i/web/stuatus/139304290226...  \n",
       "4   https://twitter.com/i/web/stuatus/139304275060...  \n",
       "..                                                ...  \n",
       "95  https://twitter.com/i/web/stuatus/139299790859...  \n",
       "96  https://twitter.com/i/web/stuatus/139299753297...  \n",
       "97  https://twitter.com/i/web/stuatus/139299724851...  \n",
       "98  https://twitter.com/i/web/stuatus/139299713214...  \n",
       "99  https://twitter.com/i/web/stuatus/139299670544...  \n",
       "\n",
       "[100 rows x 6 columns]"
      ]
     },
     "execution_count": 7,
     "metadata": {},
     "output_type": "execute_result"
    }
   ],
   "source": [
    "data = pd.DataFrame(t_processed)\n",
    "data.columns = ['tweets', 'date', 'city', 'user_location', 'id', 'link']\n",
    "data.head(100)"
   ]
  },
  {
   "cell_type": "code",
   "execution_count": 8,
   "metadata": {},
   "outputs": [],
   "source": [
    "data.to_csv(\"archivo1.csv\", index=False)"
   ]
  },
  {
   "cell_type": "markdown",
   "metadata": {},
   "source": [
    "### SNScrape"
   ]
  },
  {
   "cell_type": "code",
   "execution_count": 9,
   "metadata": {},
   "outputs": [],
   "source": [
    "import snscrape.modules.twitter as sntwitter"
   ]
  },
  {
   "cell_type": "code",
   "execution_count": 10,
   "metadata": {},
   "outputs": [
    {
     "name": "stdout",
     "output_type": "stream",
     "text": [
      "https://twitter.com/ReglasPoliticas/status/1392225054218391556\n",
      "2021-05-11 21:08:13+00:00\n",
      "#ParoColombia El ministro de minas y energía @DiegoMesaP anunció en su cuenta de twitter que junto a la Alcaldía de Pereira habían logrado llegar a un acuerdo con el gremio transportador para levantar los bloqueos que afectaban a departamentos del Eje Cafetero y Chocó.\n",
      "****************************************************************************************************\n",
      "\n",
      "https://twitter.com/PrensaSinMordaz/status/1392203872551247873\n",
      "2021-05-11 19:44:03+00:00\n",
      "Resumen informativo de este Martes #11Mayo con \n",
      "@larizzap36 \n",
      " Visite nuestra página web para escuchar y ver este y otros contenidos https://t.co/Pl6nDIBfSH #covid19 #ParoColombia #Duque #protestascolombia #Guaido #venezuela #India #victimasCovid19  #singasolina #Guaido #Biden https://t.co/ggUveHHyh3\n",
      "****************************************************************************************************\n",
      "\n",
      "https://twitter.com/LizGutierrezR/status/1391896072642088960\n",
      "2021-05-10 23:20:58+00:00\n",
      "Colombia es diversidad y NO podemos permitir que nuestros campesinos tengan que botar sus cultivos por no poderlos movilizar ni vender ¡Apoyemos este sector, ellos también son colombianos! 🇨🇴❤️\n",
      "\n",
      "#Paronacional #Parocolombia #SosColombia #Campesinos #Diversidad #Cali #Colombia https://t.co/HnWxNgdPo1\n",
      "****************************************************************************************************\n",
      "\n",
      "https://twitter.com/Leidy59399893/status/1391815897694838784\n",
      "2021-05-10 18:02:23+00:00\n",
      "Muchachos todos en el portal américas a las 3pm, nos están quitando nuestro derecho a la protesta, vamos que vamos muchachos!✊🇨🇴\n",
      "\n",
      "No se les olvide transmitir en vivos de la situación y grabar videos.\n",
      "\n",
      "#portalamericas \n",
      "#parocolombia \n",
      "#VivaElParoNacional \n",
      "#10Mayo \n",
      "#alertaroja\n",
      "****************************************************************************************************\n",
      "\n",
      "https://twitter.com/Andresc44652240/status/1391794672817868802\n",
      "2021-05-10 16:38:02+00:00\n",
      "La gente de \"bien\" vestida de blanco... COLOMBIA EN DICTADURA #ParoNacional10M #ParoNacionalColombia #ParoIndefinido2021 #parocolombia #ColombiaCensurada #CALIESTACENSURADO #CaliEnAlertaRoja #CaliResiste #cali #ColombiaEnDictadura https://t.co/hk1IiKR8CX\n",
      "****************************************************************************************************\n",
      "\n",
      "https://twitter.com/juanda_comunica/status/1391521125209882633\n",
      "2021-05-09 22:31:04+00:00\n",
      "#ParoNacionalIndefinido #parocolombia #SOSCaliDDHH #Manifestaciones https://t.co/sDXX3JuFVp\n",
      "****************************************************************************************************\n",
      "\n",
      "https://twitter.com/Mechitascasmont/status/1391379968215687169\n",
      "2021-05-09 13:10:09+00:00\n",
      "@ColombiaHumana_ \n",
      "10 días lleva #ParoColombia y en cuántas #Marchas los ha acompañado quien dice ser su #Lider? Ninguna, porque no está en el país y sabe que \n",
      "\"LOS REBAÑOS SOLO VAN AL MATADERO\"\n",
      "Los incitó al #Vandalismo y #Odio y como siempre, los dejó solos!!! \n",
      "@petrogustavo https://t.co/QnYF61Q1at\n",
      "****************************************************************************************************\n",
      "\n",
      "https://twitter.com/FciaVallenata/status/1391200342944141315\n",
      "2021-05-09 01:16:23+00:00\n",
      "#bucaramanga #colombia #paronacional #marchapacifica #parocolombia #personeriamascercamasvisible\n",
      "****************************************************************************************************\n",
      "\n",
      "https://twitter.com/Personeria_bga/status/1391176655612354561\n",
      "2021-05-08 23:42:16+00:00\n",
      "#bucaramanga #colombia #paronacional #marchapacifica #parocolombia #personeriamascercamasvisible https://t.co/h2MWO8kFfg\n",
      "****************************************************************************************************\n",
      "\n",
      "https://twitter.com/Suholover00/status/1390846054258647043\n",
      "2021-05-08 01:48:34+00:00\n",
      "#parocolombia \n",
      "#FueElEstado \n",
      "#ParoNacionalColombia https://t.co/HTUJH7835V\n",
      "****************************************************************************************************\n",
      "\n",
      "https://twitter.com/dolivium/status/1390836115637157894\n",
      "2021-05-08 01:09:05+00:00\n",
      "La amenaza a los camioneros sobre la extinción de dominio de sus camiones por la protesta es una violación al derecho constitucional a protestar. Roten esta información 🙏 Abro hilo\n",
      "#derechoshumanos #campesinos #soscolombia #paronacional #camioneros #sos #colombia #parocolombia https://t.co/JqM56VeuNA\n",
      "****************************************************************************************************\n",
      "\n"
     ]
    }
   ],
   "source": [
    "maxTweets = 10  \n",
    "for i,tweet in enumerate(sntwitter.TwitterSearchScraper('#ParoColombia ' + 'since:2021-05-01 until:2021-05-12').get_items()) :\n",
    "        if i > maxTweets :\n",
    "            break\n",
    "        print(tweet)\n",
    "        print(tweet.date)\n",
    "        print(tweet.content)\n",
    "        print(\"*\"*100)\n",
    "        print()"
   ]
  },
  {
   "cell_type": "code",
   "execution_count": 11,
   "metadata": {},
   "outputs": [
    {
     "data": {
      "text/html": [
       "<div>\n",
       "<style scoped>\n",
       "    .dataframe tbody tr th:only-of-type {\n",
       "        vertical-align: middle;\n",
       "    }\n",
       "\n",
       "    .dataframe tbody tr th {\n",
       "        vertical-align: top;\n",
       "    }\n",
       "\n",
       "    .dataframe thead th {\n",
       "        text-align: right;\n",
       "    }\n",
       "</style>\n",
       "<table border=\"1\" class=\"dataframe\">\n",
       "  <thead>\n",
       "    <tr style=\"text-align: right;\">\n",
       "      <th></th>\n",
       "      <th>tweets</th>\n",
       "      <th>date</th>\n",
       "    </tr>\n",
       "  </thead>\n",
       "  <tbody>\n",
       "    <tr>\n",
       "      <th>0</th>\n",
       "      <td>@GustavoBolivar  buenas noches para contarle q...</td>\n",
       "      <td>2021-05-14 03:23:14</td>\n",
       "    </tr>\n",
       "    <tr>\n",
       "      <th>1</th>\n",
       "      <td>@andresmarocco No tiene sentido realizar la Co...</td>\n",
       "      <td>2021-05-14 03:19:25</td>\n",
       "    </tr>\n",
       "    <tr>\n",
       "      <th>2</th>\n",
       "      <td>@petrogustavo  buenas noches para contarle qué...</td>\n",
       "      <td>2021-05-14 03:18:57</td>\n",
       "    </tr>\n",
       "    <tr>\n",
       "      <th>3</th>\n",
       "      <td>@IvanCepedaCast  buenas noches para contarle q...</td>\n",
       "      <td>2021-05-14 03:18:04</td>\n",
       "    </tr>\n",
       "    <tr>\n",
       "      <th>4</th>\n",
       "      <td>@fdbedout buenas noches para contarle qué mien...</td>\n",
       "      <td>2021-05-14 03:17:27</td>\n",
       "    </tr>\n",
       "  </tbody>\n",
       "</table>\n",
       "</div>"
      ],
      "text/plain": [
       "                                              tweets                date\n",
       "0  @GustavoBolivar  buenas noches para contarle q... 2021-05-14 03:23:14\n",
       "1  @andresmarocco No tiene sentido realizar la Co... 2021-05-14 03:19:25\n",
       "2  @petrogustavo  buenas noches para contarle qué... 2021-05-14 03:18:57\n",
       "3  @IvanCepedaCast  buenas noches para contarle q... 2021-05-14 03:18:04\n",
       "4  @fdbedout buenas noches para contarle qué mien... 2021-05-14 03:17:27"
      ]
     },
     "execution_count": 11,
     "metadata": {},
     "output_type": "execute_result"
    }
   ],
   "source": [
    "data = data[['tweets', 'date']]\n",
    "data.head()"
   ]
  },
  {
   "cell_type": "code",
   "execution_count": 12,
   "metadata": {},
   "outputs": [],
   "source": [
    "import re \n",
    "\n",
    "pattern1 = '?P<pic>pic.twitter.com/[^\\s]+'\n",
    "pattern2 = '?P<url>https?://[^\\s]+'"
   ]
  },
  {
   "cell_type": "code",
   "execution_count": 13,
   "metadata": {},
   "outputs": [
    {
     "data": {
      "text/html": [
       "<div>\n",
       "<style scoped>\n",
       "    .dataframe tbody tr th:only-of-type {\n",
       "        vertical-align: middle;\n",
       "    }\n",
       "\n",
       "    .dataframe tbody tr th {\n",
       "        vertical-align: top;\n",
       "    }\n",
       "\n",
       "    .dataframe thead th {\n",
       "        text-align: right;\n",
       "    }\n",
       "</style>\n",
       "<table border=\"1\" class=\"dataframe\">\n",
       "  <thead>\n",
       "    <tr style=\"text-align: right;\">\n",
       "      <th></th>\n",
       "      <th>tweets</th>\n",
       "      <th>date</th>\n",
       "      <th>texto_limpio</th>\n",
       "      <th>links</th>\n",
       "      <th>hashtags</th>\n",
       "      <th>mentions</th>\n",
       "    </tr>\n",
       "  </thead>\n",
       "  <tbody>\n",
       "    <tr>\n",
       "      <th>0</th>\n",
       "      <td>@GustavoBolivar  buenas noches para contarle q...</td>\n",
       "      <td>2021-05-14 03:23:14</td>\n",
       "      <td>buenas noches para contarle qué mientras est...</td>\n",
       "      <td>[]</td>\n",
       "      <td>[]</td>\n",
       "      <td>[@GustavoBolivar]</td>\n",
       "    </tr>\n",
       "    <tr>\n",
       "      <th>1</th>\n",
       "      <td>@andresmarocco No tiene sentido realizar la Co...</td>\n",
       "      <td>2021-05-14 03:19:25</td>\n",
       "      <td>No tiene sentido realizar la Copa América en ...</td>\n",
       "      <td>[]</td>\n",
       "      <td>[]</td>\n",
       "      <td>[@andresmarocco]</td>\n",
       "    </tr>\n",
       "    <tr>\n",
       "      <th>2</th>\n",
       "      <td>@petrogustavo  buenas noches para contarle qué...</td>\n",
       "      <td>2021-05-14 03:18:57</td>\n",
       "      <td>buenas noches para contarle qué mientras est...</td>\n",
       "      <td>[]</td>\n",
       "      <td>[]</td>\n",
       "      <td>[@petrogustavo]</td>\n",
       "    </tr>\n",
       "    <tr>\n",
       "      <th>3</th>\n",
       "      <td>@IvanCepedaCast  buenas noches para contarle q...</td>\n",
       "      <td>2021-05-14 03:18:04</td>\n",
       "      <td>buenas noches para contarle qué mientras est...</td>\n",
       "      <td>[]</td>\n",
       "      <td>[]</td>\n",
       "      <td>[@IvanCepedaCast]</td>\n",
       "    </tr>\n",
       "    <tr>\n",
       "      <th>4</th>\n",
       "      <td>@fdbedout buenas noches para contarle qué mien...</td>\n",
       "      <td>2021-05-14 03:17:27</td>\n",
       "      <td>buenas noches para contarle qué mientras esta...</td>\n",
       "      <td>[]</td>\n",
       "      <td>[]</td>\n",
       "      <td>[@fdbedout]</td>\n",
       "    </tr>\n",
       "    <tr>\n",
       "      <th>...</th>\n",
       "      <td>...</td>\n",
       "      <td>...</td>\n",
       "      <td>...</td>\n",
       "      <td>...</td>\n",
       "      <td>...</td>\n",
       "      <td>...</td>\n",
       "    </tr>\n",
       "    <tr>\n",
       "      <th>95</th>\n",
       "      <td>Esto es lo que hacen los genocidas del paro gu...</td>\n",
       "      <td>2021-05-14 00:19:16</td>\n",
       "      <td>Esto es lo que hacen los genocidas del paro gu...</td>\n",
       "      <td>[https://t.co/Twjua0Qywl]</td>\n",
       "      <td>[]</td>\n",
       "      <td>[]</td>\n",
       "    </tr>\n",
       "    <tr>\n",
       "      <th>96</th>\n",
       "      <td>@CONMEBOL gracias por encubrir los muertos que...</td>\n",
       "      <td>2021-05-14 00:17:47</td>\n",
       "      <td>gracias por encubrir los muertos que hasta ah...</td>\n",
       "      <td>[https://t.co/qOHz8IjO8R]</td>\n",
       "      <td>[#SOSColombiaEnDictadura, #NosEstanMantando, #...</td>\n",
       "      <td>[@CONMEBOL, @IvanDuque]</td>\n",
       "    </tr>\n",
       "    <tr>\n",
       "      <th>97</th>\n",
       "      <td>@DianaCalderonF #Hora20 | Sentarse de forma  u...</td>\n",
       "      <td>2021-05-14 00:16:39</td>\n",
       "      <td>| Sentarse de forma  urgente pidió la Asocia...</td>\n",
       "      <td>[https://t.co/n7Ja6ZqSSM]</td>\n",
       "      <td>[#Hora20]</td>\n",
       "      <td>[@DianaCalderonF]</td>\n",
       "    </tr>\n",
       "    <tr>\n",
       "      <th>98</th>\n",
       "      <td>Jupiter entrando en piscis en medio de una cri...</td>\n",
       "      <td>2021-05-14 00:16:11</td>\n",
       "      <td>Jupiter entrando en piscis en medio de una cri...</td>\n",
       "      <td>[https://t.co/4c5GR3F4Tn]</td>\n",
       "      <td>[]</td>\n",
       "      <td>[]</td>\n",
       "    </tr>\n",
       "    <tr>\n",
       "      <th>99</th>\n",
       "      <td>:( Si lo conoció en la marcha es el correcto. ...</td>\n",
       "      <td>2021-05-14 00:14:29</td>\n",
       "      <td>:( Si lo conoció en la marcha es el correcto. ...</td>\n",
       "      <td>[https://t.co/3y8WFvGaf4]</td>\n",
       "      <td>[]</td>\n",
       "      <td>[]</td>\n",
       "    </tr>\n",
       "  </tbody>\n",
       "</table>\n",
       "<p>100 rows × 6 columns</p>\n",
       "</div>"
      ],
      "text/plain": [
       "                                               tweets                date  \\\n",
       "0   @GustavoBolivar  buenas noches para contarle q... 2021-05-14 03:23:14   \n",
       "1   @andresmarocco No tiene sentido realizar la Co... 2021-05-14 03:19:25   \n",
       "2   @petrogustavo  buenas noches para contarle qué... 2021-05-14 03:18:57   \n",
       "3   @IvanCepedaCast  buenas noches para contarle q... 2021-05-14 03:18:04   \n",
       "4   @fdbedout buenas noches para contarle qué mien... 2021-05-14 03:17:27   \n",
       "..                                                ...                 ...   \n",
       "95  Esto es lo que hacen los genocidas del paro gu... 2021-05-14 00:19:16   \n",
       "96  @CONMEBOL gracias por encubrir los muertos que... 2021-05-14 00:17:47   \n",
       "97  @DianaCalderonF #Hora20 | Sentarse de forma  u... 2021-05-14 00:16:39   \n",
       "98  Jupiter entrando en piscis en medio de una cri... 2021-05-14 00:16:11   \n",
       "99  :( Si lo conoció en la marcha es el correcto. ... 2021-05-14 00:14:29   \n",
       "\n",
       "                                         texto_limpio  \\\n",
       "0     buenas noches para contarle qué mientras est...   \n",
       "1    No tiene sentido realizar la Copa América en ...   \n",
       "2     buenas noches para contarle qué mientras est...   \n",
       "3     buenas noches para contarle qué mientras est...   \n",
       "4    buenas noches para contarle qué mientras esta...   \n",
       "..                                                ...   \n",
       "95  Esto es lo que hacen los genocidas del paro gu...   \n",
       "96   gracias por encubrir los muertos que hasta ah...   \n",
       "97    | Sentarse de forma  urgente pidió la Asocia...   \n",
       "98  Jupiter entrando en piscis en medio de una cri...   \n",
       "99  :( Si lo conoció en la marcha es el correcto. ...   \n",
       "\n",
       "                        links  \\\n",
       "0                          []   \n",
       "1                          []   \n",
       "2                          []   \n",
       "3                          []   \n",
       "4                          []   \n",
       "..                        ...   \n",
       "95  [https://t.co/Twjua0Qywl]   \n",
       "96  [https://t.co/qOHz8IjO8R]   \n",
       "97  [https://t.co/n7Ja6ZqSSM]   \n",
       "98  [https://t.co/4c5GR3F4Tn]   \n",
       "99  [https://t.co/3y8WFvGaf4]   \n",
       "\n",
       "                                             hashtags                 mentions  \n",
       "0                                                  []        [@GustavoBolivar]  \n",
       "1                                                  []         [@andresmarocco]  \n",
       "2                                                  []          [@petrogustavo]  \n",
       "3                                                  []        [@IvanCepedaCast]  \n",
       "4                                                  []              [@fdbedout]  \n",
       "..                                                ...                      ...  \n",
       "95                                                 []                       []  \n",
       "96  [#SOSColombiaEnDictadura, #NosEstanMantando, #...  [@CONMEBOL, @IvanDuque]  \n",
       "97                                          [#Hora20]        [@DianaCalderonF]  \n",
       "98                                                 []                       []  \n",
       "99                                                 []                       []  \n",
       "\n",
       "[100 rows x 6 columns]"
      ]
     },
     "execution_count": 13,
     "metadata": {},
     "output_type": "execute_result"
    }
   ],
   "source": [
    "def text_clean(row):\n",
    "    text = row['tweets']\n",
    "    \n",
    "    links = [tuple(j for j in i if j)[-1] for i in re.findall(f\"({pattern1})|({pattern2})\",text)]\n",
    "    for link in links:\n",
    "        text = text.replace(link,\"\")\n",
    "    \n",
    "    hashtags = [interaction for interaction in text.split() if interaction.startswith(\"#\")]\n",
    "    for hashtag in hashtags:\n",
    "        text = text.replace(hashtag, \"\")\n",
    "        \n",
    "    mentions = [interaction for interaction in text.split() if interaction.startswith(\"@\")]\n",
    "    for mention in mentions:\n",
    "        text = text.replace(mention, \"\")\n",
    "        \n",
    "    return text, links, hashtags, mentions\n",
    "\n",
    "data[['texto_limpio', 'links', 'hashtags', 'mentions']] = data.apply(text_clean, axis=1, result_type='expand')\n",
    "data"
   ]
  },
  {
   "cell_type": "markdown",
   "metadata": {},
   "source": [
    "###  `[25 pts]` Punto 2: Hacer una visualización sobre esos tuits - Serie de Tiempos"
   ]
  },
  {
   "cell_type": "code",
   "execution_count": 14,
   "metadata": {},
   "outputs": [
    {
     "data": {
      "text/html": [
       "<div>\n",
       "<style scoped>\n",
       "    .dataframe tbody tr th:only-of-type {\n",
       "        vertical-align: middle;\n",
       "    }\n",
       "\n",
       "    .dataframe tbody tr th {\n",
       "        vertical-align: top;\n",
       "    }\n",
       "\n",
       "    .dataframe thead th {\n",
       "        text-align: right;\n",
       "    }\n",
       "</style>\n",
       "<table border=\"1\" class=\"dataframe\">\n",
       "  <thead>\n",
       "    <tr style=\"text-align: right;\">\n",
       "      <th></th>\n",
       "      <th>hora</th>\n",
       "      <th>cnt</th>\n",
       "    </tr>\n",
       "  </thead>\n",
       "  <tbody>\n",
       "    <tr>\n",
       "      <th>31</th>\n",
       "      <td>00:14:00</td>\n",
       "      <td>1</td>\n",
       "    </tr>\n",
       "    <tr>\n",
       "      <th>8</th>\n",
       "      <td>00:16:00</td>\n",
       "      <td>2</td>\n",
       "    </tr>\n",
       "    <tr>\n",
       "      <th>25</th>\n",
       "      <td>00:17:00</td>\n",
       "      <td>1</td>\n",
       "    </tr>\n",
       "    <tr>\n",
       "      <th>65</th>\n",
       "      <td>00:19:00</td>\n",
       "      <td>1</td>\n",
       "    </tr>\n",
       "    <tr>\n",
       "      <th>7</th>\n",
       "      <td>00:22:00</td>\n",
       "      <td>2</td>\n",
       "    </tr>\n",
       "    <tr>\n",
       "      <th>...</th>\n",
       "      <td>...</td>\n",
       "      <td>...</td>\n",
       "    </tr>\n",
       "    <tr>\n",
       "      <th>63</th>\n",
       "      <td>03:16:00</td>\n",
       "      <td>1</td>\n",
       "    </tr>\n",
       "    <tr>\n",
       "      <th>74</th>\n",
       "      <td>03:17:00</td>\n",
       "      <td>1</td>\n",
       "    </tr>\n",
       "    <tr>\n",
       "      <th>17</th>\n",
       "      <td>03:18:00</td>\n",
       "      <td>2</td>\n",
       "    </tr>\n",
       "    <tr>\n",
       "      <th>64</th>\n",
       "      <td>03:19:00</td>\n",
       "      <td>1</td>\n",
       "    </tr>\n",
       "    <tr>\n",
       "      <th>42</th>\n",
       "      <td>03:23:00</td>\n",
       "      <td>1</td>\n",
       "    </tr>\n",
       "  </tbody>\n",
       "</table>\n",
       "<p>78 rows × 2 columns</p>\n",
       "</div>"
      ],
      "text/plain": [
       "        hora  cnt\n",
       "31  00:14:00    1\n",
       "8   00:16:00    2\n",
       "25  00:17:00    1\n",
       "65  00:19:00    1\n",
       "7   00:22:00    2\n",
       "..       ...  ...\n",
       "63  03:16:00    1\n",
       "74  03:17:00    1\n",
       "17  03:18:00    2\n",
       "64  03:19:00    1\n",
       "42  03:23:00    1\n",
       "\n",
       "[78 rows x 2 columns]"
      ]
     },
     "execution_count": 14,
     "metadata": {},
     "output_type": "execute_result"
    }
   ],
   "source": [
    "data['hora'] = data['date'].dt.floor('T').dt.time\n",
    "temp = pd.DataFrame(data.hora.value_counts()).reset_index()\n",
    "temp.columns = ['hora', 'cnt']\n",
    "temp = temp.sort_values('hora')\n",
    "temp"
   ]
  },
  {
   "cell_type": "code",
   "execution_count": 15,
   "metadata": {},
   "outputs": [],
   "source": [
    "import plotly.io as pio\n",
    "import plotly.express as px\n",
    "import plotly.graph_objs as go\n",
    "from plotly.offline import download_plotlyjs, init_notebook_mode, plot, iplot"
   ]
  },
  {
   "cell_type": "code",
   "execution_count": 16,
   "metadata": {},
   "outputs": [
    {
     "data": {
      "text/html": [
       "        <script type=\"text/javascript\">\n",
       "        window.PlotlyConfig = {MathJaxConfig: 'local'};\n",
       "        if (window.MathJax) {MathJax.Hub.Config({SVG: {font: \"STIX-Web\"}});}\n",
       "        if (typeof require !== 'undefined') {\n",
       "        require.undef(\"plotly\");\n",
       "        requirejs.config({\n",
       "            paths: {\n",
       "                'plotly': ['https://cdn.plot.ly/plotly-latest.min']\n",
       "            }\n",
       "        });\n",
       "        require(['plotly'], function(Plotly) {\n",
       "            window._Plotly = Plotly;\n",
       "        });\n",
       "        }\n",
       "        </script>\n",
       "        "
      ]
     },
     "metadata": {},
     "output_type": "display_data"
    }
   ],
   "source": [
    "import matplotlib.pyplot as plt\n",
    "%matplotlib inline\n",
    "init_notebook_mode(connected=True)"
   ]
  },
  {
   "cell_type": "code",
   "execution_count": 26,
   "metadata": {},
   "outputs": [],
   "source": [
    "trace = go.Scatter(x=temp.hora.values,\n",
    "                   y=temp.cnt.values,\n",
    "                   text=[f\"Fecha: {f}<br>Tuits: {c}\" for f,c in zip(temp.hora.values,temp.cnt.values)],\n",
    "                   hoverinfo='text',\n",
    "                   mode='lines+markers',\n",
    "                   name='Horas',\n",
    "                   line={'color': 'red'})\n"
   ]
  },
  {
   "cell_type": "code",
   "execution_count": 28,
   "metadata": {},
   "outputs": [
    {
     "data": {
      "application/vnd.plotly.v1+json": {
       "config": {
        "linkText": "Export to plot.ly",
        "plotlyServerURL": "https://plot.ly",
        "showLink": false
       },
       "data": [
        {
         "hoverinfo": "text",
         "line": {
          "color": "red"
         },
         "mode": "lines+markers",
         "name": "Horas",
         "text": [
          "Fecha: 00:14:00<br>Tuits: 1",
          "Fecha: 00:16:00<br>Tuits: 2",
          "Fecha: 00:17:00<br>Tuits: 1",
          "Fecha: 00:19:00<br>Tuits: 1",
          "Fecha: 00:22:00<br>Tuits: 2",
          "Fecha: 00:23:00<br>Tuits: 1",
          "Fecha: 00:24:00<br>Tuits: 1",
          "Fecha: 00:26:00<br>Tuits: 1",
          "Fecha: 00:27:00<br>Tuits: 1",
          "Fecha: 00:28:00<br>Tuits: 2",
          "Fecha: 00:32:00<br>Tuits: 1",
          "Fecha: 00:36:00<br>Tuits: 1",
          "Fecha: 00:37:00<br>Tuits: 1",
          "Fecha: 00:41:00<br>Tuits: 1",
          "Fecha: 00:43:00<br>Tuits: 2",
          "Fecha: 00:45:00<br>Tuits: 1",
          "Fecha: 00:47:00<br>Tuits: 1",
          "Fecha: 00:49:00<br>Tuits: 1",
          "Fecha: 00:55:00<br>Tuits: 1",
          "Fecha: 00:56:00<br>Tuits: 1",
          "Fecha: 01:00:00<br>Tuits: 2",
          "Fecha: 01:02:00<br>Tuits: 1",
          "Fecha: 01:04:00<br>Tuits: 2",
          "Fecha: 01:06:00<br>Tuits: 1",
          "Fecha: 01:07:00<br>Tuits: 1",
          "Fecha: 01:09:00<br>Tuits: 1",
          "Fecha: 01:12:00<br>Tuits: 1",
          "Fecha: 01:13:00<br>Tuits: 1",
          "Fecha: 01:17:00<br>Tuits: 1",
          "Fecha: 01:20:00<br>Tuits: 1",
          "Fecha: 01:22:00<br>Tuits: 2",
          "Fecha: 01:29:00<br>Tuits: 1",
          "Fecha: 01:34:00<br>Tuits: 1",
          "Fecha: 01:35:00<br>Tuits: 1",
          "Fecha: 01:37:00<br>Tuits: 1",
          "Fecha: 01:43:00<br>Tuits: 1",
          "Fecha: 01:44:00<br>Tuits: 1",
          "Fecha: 01:46:00<br>Tuits: 1",
          "Fecha: 01:47:00<br>Tuits: 2",
          "Fecha: 01:48:00<br>Tuits: 2",
          "Fecha: 01:52:00<br>Tuits: 2",
          "Fecha: 01:53:00<br>Tuits: 1",
          "Fecha: 01:59:00<br>Tuits: 2",
          "Fecha: 02:04:00<br>Tuits: 1",
          "Fecha: 02:11:00<br>Tuits: 3",
          "Fecha: 02:16:00<br>Tuits: 1",
          "Fecha: 02:20:00<br>Tuits: 1",
          "Fecha: 02:23:00<br>Tuits: 1",
          "Fecha: 02:25:00<br>Tuits: 1",
          "Fecha: 02:26:00<br>Tuits: 1",
          "Fecha: 02:28:00<br>Tuits: 1",
          "Fecha: 02:32:00<br>Tuits: 1",
          "Fecha: 02:33:00<br>Tuits: 2",
          "Fecha: 02:36:00<br>Tuits: 1",
          "Fecha: 02:37:00<br>Tuits: 1",
          "Fecha: 02:39:00<br>Tuits: 1",
          "Fecha: 02:41:00<br>Tuits: 2",
          "Fecha: 02:42:00<br>Tuits: 1",
          "Fecha: 02:47:00<br>Tuits: 2",
          "Fecha: 02:48:00<br>Tuits: 1",
          "Fecha: 02:50:00<br>Tuits: 2",
          "Fecha: 02:52:00<br>Tuits: 1",
          "Fecha: 02:55:00<br>Tuits: 2",
          "Fecha: 02:56:00<br>Tuits: 1",
          "Fecha: 02:57:00<br>Tuits: 1",
          "Fecha: 03:00:00<br>Tuits: 1",
          "Fecha: 03:03:00<br>Tuits: 1",
          "Fecha: 03:05:00<br>Tuits: 1",
          "Fecha: 03:07:00<br>Tuits: 2",
          "Fecha: 03:11:00<br>Tuits: 2",
          "Fecha: 03:12:00<br>Tuits: 1",
          "Fecha: 03:14:00<br>Tuits: 2",
          "Fecha: 03:15:00<br>Tuits: 1",
          "Fecha: 03:16:00<br>Tuits: 1",
          "Fecha: 03:17:00<br>Tuits: 1",
          "Fecha: 03:18:00<br>Tuits: 2",
          "Fecha: 03:19:00<br>Tuits: 1",
          "Fecha: 03:23:00<br>Tuits: 1"
         ],
         "type": "scatter",
         "x": [
          "00:14:00",
          "00:16:00",
          "00:17:00",
          "00:19:00",
          "00:22:00",
          "00:23:00",
          "00:24:00",
          "00:26:00",
          "00:27:00",
          "00:28:00",
          "00:32:00",
          "00:36:00",
          "00:37:00",
          "00:41:00",
          "00:43:00",
          "00:45:00",
          "00:47:00",
          "00:49:00",
          "00:55:00",
          "00:56:00",
          "01:00:00",
          "01:02:00",
          "01:04:00",
          "01:06:00",
          "01:07:00",
          "01:09:00",
          "01:12:00",
          "01:13:00",
          "01:17:00",
          "01:20:00",
          "01:22:00",
          "01:29:00",
          "01:34:00",
          "01:35:00",
          "01:37:00",
          "01:43:00",
          "01:44:00",
          "01:46:00",
          "01:47:00",
          "01:48:00",
          "01:52:00",
          "01:53:00",
          "01:59:00",
          "02:04:00",
          "02:11:00",
          "02:16:00",
          "02:20:00",
          "02:23:00",
          "02:25:00",
          "02:26:00",
          "02:28:00",
          "02:32:00",
          "02:33:00",
          "02:36:00",
          "02:37:00",
          "02:39:00",
          "02:41:00",
          "02:42:00",
          "02:47:00",
          "02:48:00",
          "02:50:00",
          "02:52:00",
          "02:55:00",
          "02:56:00",
          "02:57:00",
          "03:00:00",
          "03:03:00",
          "03:05:00",
          "03:07:00",
          "03:11:00",
          "03:12:00",
          "03:14:00",
          "03:15:00",
          "03:16:00",
          "03:17:00",
          "03:18:00",
          "03:19:00",
          "03:23:00"
         ],
         "y": [
          1,
          2,
          1,
          1,
          2,
          1,
          1,
          1,
          1,
          2,
          1,
          1,
          1,
          1,
          2,
          1,
          1,
          1,
          1,
          1,
          2,
          1,
          2,
          1,
          1,
          1,
          1,
          1,
          1,
          1,
          2,
          1,
          1,
          1,
          1,
          1,
          1,
          1,
          2,
          2,
          2,
          1,
          2,
          1,
          3,
          1,
          1,
          1,
          1,
          1,
          1,
          1,
          2,
          1,
          1,
          1,
          2,
          1,
          2,
          1,
          2,
          1,
          2,
          1,
          1,
          1,
          1,
          1,
          2,
          2,
          1,
          2,
          1,
          1,
          1,
          2,
          1,
          1
         ]
        }
       ],
       "layout": {
        "template": {
         "data": {
          "bar": [
           {
            "error_x": {
             "color": "#2a3f5f"
            },
            "error_y": {
             "color": "#2a3f5f"
            },
            "marker": {
             "line": {
              "color": "#E5ECF6",
              "width": 0.5
             }
            },
            "type": "bar"
           }
          ],
          "barpolar": [
           {
            "marker": {
             "line": {
              "color": "#E5ECF6",
              "width": 0.5
             }
            },
            "type": "barpolar"
           }
          ],
          "carpet": [
           {
            "aaxis": {
             "endlinecolor": "#2a3f5f",
             "gridcolor": "white",
             "linecolor": "white",
             "minorgridcolor": "white",
             "startlinecolor": "#2a3f5f"
            },
            "baxis": {
             "endlinecolor": "#2a3f5f",
             "gridcolor": "white",
             "linecolor": "white",
             "minorgridcolor": "white",
             "startlinecolor": "#2a3f5f"
            },
            "type": "carpet"
           }
          ],
          "choropleth": [
           {
            "colorbar": {
             "outlinewidth": 0,
             "ticks": ""
            },
            "type": "choropleth"
           }
          ],
          "contour": [
           {
            "colorbar": {
             "outlinewidth": 0,
             "ticks": ""
            },
            "colorscale": [
             [
              0,
              "#0d0887"
             ],
             [
              0.1111111111111111,
              "#46039f"
             ],
             [
              0.2222222222222222,
              "#7201a8"
             ],
             [
              0.3333333333333333,
              "#9c179e"
             ],
             [
              0.4444444444444444,
              "#bd3786"
             ],
             [
              0.5555555555555556,
              "#d8576b"
             ],
             [
              0.6666666666666666,
              "#ed7953"
             ],
             [
              0.7777777777777778,
              "#fb9f3a"
             ],
             [
              0.8888888888888888,
              "#fdca26"
             ],
             [
              1,
              "#f0f921"
             ]
            ],
            "type": "contour"
           }
          ],
          "contourcarpet": [
           {
            "colorbar": {
             "outlinewidth": 0,
             "ticks": ""
            },
            "type": "contourcarpet"
           }
          ],
          "heatmap": [
           {
            "colorbar": {
             "outlinewidth": 0,
             "ticks": ""
            },
            "colorscale": [
             [
              0,
              "#0d0887"
             ],
             [
              0.1111111111111111,
              "#46039f"
             ],
             [
              0.2222222222222222,
              "#7201a8"
             ],
             [
              0.3333333333333333,
              "#9c179e"
             ],
             [
              0.4444444444444444,
              "#bd3786"
             ],
             [
              0.5555555555555556,
              "#d8576b"
             ],
             [
              0.6666666666666666,
              "#ed7953"
             ],
             [
              0.7777777777777778,
              "#fb9f3a"
             ],
             [
              0.8888888888888888,
              "#fdca26"
             ],
             [
              1,
              "#f0f921"
             ]
            ],
            "type": "heatmap"
           }
          ],
          "heatmapgl": [
           {
            "colorbar": {
             "outlinewidth": 0,
             "ticks": ""
            },
            "colorscale": [
             [
              0,
              "#0d0887"
             ],
             [
              0.1111111111111111,
              "#46039f"
             ],
             [
              0.2222222222222222,
              "#7201a8"
             ],
             [
              0.3333333333333333,
              "#9c179e"
             ],
             [
              0.4444444444444444,
              "#bd3786"
             ],
             [
              0.5555555555555556,
              "#d8576b"
             ],
             [
              0.6666666666666666,
              "#ed7953"
             ],
             [
              0.7777777777777778,
              "#fb9f3a"
             ],
             [
              0.8888888888888888,
              "#fdca26"
             ],
             [
              1,
              "#f0f921"
             ]
            ],
            "type": "heatmapgl"
           }
          ],
          "histogram": [
           {
            "marker": {
             "colorbar": {
              "outlinewidth": 0,
              "ticks": ""
             }
            },
            "type": "histogram"
           }
          ],
          "histogram2d": [
           {
            "colorbar": {
             "outlinewidth": 0,
             "ticks": ""
            },
            "colorscale": [
             [
              0,
              "#0d0887"
             ],
             [
              0.1111111111111111,
              "#46039f"
             ],
             [
              0.2222222222222222,
              "#7201a8"
             ],
             [
              0.3333333333333333,
              "#9c179e"
             ],
             [
              0.4444444444444444,
              "#bd3786"
             ],
             [
              0.5555555555555556,
              "#d8576b"
             ],
             [
              0.6666666666666666,
              "#ed7953"
             ],
             [
              0.7777777777777778,
              "#fb9f3a"
             ],
             [
              0.8888888888888888,
              "#fdca26"
             ],
             [
              1,
              "#f0f921"
             ]
            ],
            "type": "histogram2d"
           }
          ],
          "histogram2dcontour": [
           {
            "colorbar": {
             "outlinewidth": 0,
             "ticks": ""
            },
            "colorscale": [
             [
              0,
              "#0d0887"
             ],
             [
              0.1111111111111111,
              "#46039f"
             ],
             [
              0.2222222222222222,
              "#7201a8"
             ],
             [
              0.3333333333333333,
              "#9c179e"
             ],
             [
              0.4444444444444444,
              "#bd3786"
             ],
             [
              0.5555555555555556,
              "#d8576b"
             ],
             [
              0.6666666666666666,
              "#ed7953"
             ],
             [
              0.7777777777777778,
              "#fb9f3a"
             ],
             [
              0.8888888888888888,
              "#fdca26"
             ],
             [
              1,
              "#f0f921"
             ]
            ],
            "type": "histogram2dcontour"
           }
          ],
          "mesh3d": [
           {
            "colorbar": {
             "outlinewidth": 0,
             "ticks": ""
            },
            "type": "mesh3d"
           }
          ],
          "parcoords": [
           {
            "line": {
             "colorbar": {
              "outlinewidth": 0,
              "ticks": ""
             }
            },
            "type": "parcoords"
           }
          ],
          "pie": [
           {
            "automargin": true,
            "type": "pie"
           }
          ],
          "scatter": [
           {
            "marker": {
             "colorbar": {
              "outlinewidth": 0,
              "ticks": ""
             }
            },
            "type": "scatter"
           }
          ],
          "scatter3d": [
           {
            "line": {
             "colorbar": {
              "outlinewidth": 0,
              "ticks": ""
             }
            },
            "marker": {
             "colorbar": {
              "outlinewidth": 0,
              "ticks": ""
             }
            },
            "type": "scatter3d"
           }
          ],
          "scattercarpet": [
           {
            "marker": {
             "colorbar": {
              "outlinewidth": 0,
              "ticks": ""
             }
            },
            "type": "scattercarpet"
           }
          ],
          "scattergeo": [
           {
            "marker": {
             "colorbar": {
              "outlinewidth": 0,
              "ticks": ""
             }
            },
            "type": "scattergeo"
           }
          ],
          "scattergl": [
           {
            "marker": {
             "colorbar": {
              "outlinewidth": 0,
              "ticks": ""
             }
            },
            "type": "scattergl"
           }
          ],
          "scattermapbox": [
           {
            "marker": {
             "colorbar": {
              "outlinewidth": 0,
              "ticks": ""
             }
            },
            "type": "scattermapbox"
           }
          ],
          "scatterpolar": [
           {
            "marker": {
             "colorbar": {
              "outlinewidth": 0,
              "ticks": ""
             }
            },
            "type": "scatterpolar"
           }
          ],
          "scatterpolargl": [
           {
            "marker": {
             "colorbar": {
              "outlinewidth": 0,
              "ticks": ""
             }
            },
            "type": "scatterpolargl"
           }
          ],
          "scatterternary": [
           {
            "marker": {
             "colorbar": {
              "outlinewidth": 0,
              "ticks": ""
             }
            },
            "type": "scatterternary"
           }
          ],
          "surface": [
           {
            "colorbar": {
             "outlinewidth": 0,
             "ticks": ""
            },
            "colorscale": [
             [
              0,
              "#0d0887"
             ],
             [
              0.1111111111111111,
              "#46039f"
             ],
             [
              0.2222222222222222,
              "#7201a8"
             ],
             [
              0.3333333333333333,
              "#9c179e"
             ],
             [
              0.4444444444444444,
              "#bd3786"
             ],
             [
              0.5555555555555556,
              "#d8576b"
             ],
             [
              0.6666666666666666,
              "#ed7953"
             ],
             [
              0.7777777777777778,
              "#fb9f3a"
             ],
             [
              0.8888888888888888,
              "#fdca26"
             ],
             [
              1,
              "#f0f921"
             ]
            ],
            "type": "surface"
           }
          ],
          "table": [
           {
            "cells": {
             "fill": {
              "color": "#EBF0F8"
             },
             "line": {
              "color": "white"
             }
            },
            "header": {
             "fill": {
              "color": "#C8D4E3"
             },
             "line": {
              "color": "white"
             }
            },
            "type": "table"
           }
          ]
         },
         "layout": {
          "annotationdefaults": {
           "arrowcolor": "#2a3f5f",
           "arrowhead": 0,
           "arrowwidth": 1
          },
          "coloraxis": {
           "colorbar": {
            "outlinewidth": 0,
            "ticks": ""
           }
          },
          "colorscale": {
           "diverging": [
            [
             0,
             "#8e0152"
            ],
            [
             0.1,
             "#c51b7d"
            ],
            [
             0.2,
             "#de77ae"
            ],
            [
             0.3,
             "#f1b6da"
            ],
            [
             0.4,
             "#fde0ef"
            ],
            [
             0.5,
             "#f7f7f7"
            ],
            [
             0.6,
             "#e6f5d0"
            ],
            [
             0.7,
             "#b8e186"
            ],
            [
             0.8,
             "#7fbc41"
            ],
            [
             0.9,
             "#4d9221"
            ],
            [
             1,
             "#276419"
            ]
           ],
           "sequential": [
            [
             0,
             "#0d0887"
            ],
            [
             0.1111111111111111,
             "#46039f"
            ],
            [
             0.2222222222222222,
             "#7201a8"
            ],
            [
             0.3333333333333333,
             "#9c179e"
            ],
            [
             0.4444444444444444,
             "#bd3786"
            ],
            [
             0.5555555555555556,
             "#d8576b"
            ],
            [
             0.6666666666666666,
             "#ed7953"
            ],
            [
             0.7777777777777778,
             "#fb9f3a"
            ],
            [
             0.8888888888888888,
             "#fdca26"
            ],
            [
             1,
             "#f0f921"
            ]
           ],
           "sequentialminus": [
            [
             0,
             "#0d0887"
            ],
            [
             0.1111111111111111,
             "#46039f"
            ],
            [
             0.2222222222222222,
             "#7201a8"
            ],
            [
             0.3333333333333333,
             "#9c179e"
            ],
            [
             0.4444444444444444,
             "#bd3786"
            ],
            [
             0.5555555555555556,
             "#d8576b"
            ],
            [
             0.6666666666666666,
             "#ed7953"
            ],
            [
             0.7777777777777778,
             "#fb9f3a"
            ],
            [
             0.8888888888888888,
             "#fdca26"
            ],
            [
             1,
             "#f0f921"
            ]
           ]
          },
          "colorway": [
           "#636efa",
           "#EF553B",
           "#00cc96",
           "#ab63fa",
           "#FFA15A",
           "#19d3f3",
           "#FF6692",
           "#B6E880",
           "#FF97FF",
           "#FECB52"
          ],
          "font": {
           "color": "#2a3f5f"
          },
          "geo": {
           "bgcolor": "white",
           "lakecolor": "white",
           "landcolor": "#E5ECF6",
           "showlakes": true,
           "showland": true,
           "subunitcolor": "white"
          },
          "hoverlabel": {
           "align": "left"
          },
          "hovermode": "closest",
          "mapbox": {
           "style": "light"
          },
          "paper_bgcolor": "white",
          "plot_bgcolor": "#E5ECF6",
          "polar": {
           "angularaxis": {
            "gridcolor": "white",
            "linecolor": "white",
            "ticks": ""
           },
           "bgcolor": "#E5ECF6",
           "radialaxis": {
            "gridcolor": "white",
            "linecolor": "white",
            "ticks": ""
           }
          },
          "scene": {
           "xaxis": {
            "backgroundcolor": "#E5ECF6",
            "gridcolor": "white",
            "gridwidth": 2,
            "linecolor": "white",
            "showbackground": true,
            "ticks": "",
            "zerolinecolor": "white"
           },
           "yaxis": {
            "backgroundcolor": "#E5ECF6",
            "gridcolor": "white",
            "gridwidth": 2,
            "linecolor": "white",
            "showbackground": true,
            "ticks": "",
            "zerolinecolor": "white"
           },
           "zaxis": {
            "backgroundcolor": "#E5ECF6",
            "gridcolor": "white",
            "gridwidth": 2,
            "linecolor": "white",
            "showbackground": true,
            "ticks": "",
            "zerolinecolor": "white"
           }
          },
          "shapedefaults": {
           "line": {
            "color": "#2a3f5f"
           }
          },
          "ternary": {
           "aaxis": {
            "gridcolor": "white",
            "linecolor": "white",
            "ticks": ""
           },
           "baxis": {
            "gridcolor": "white",
            "linecolor": "white",
            "ticks": ""
           },
           "bgcolor": "#E5ECF6",
           "caxis": {
            "gridcolor": "white",
            "linecolor": "white",
            "ticks": ""
           }
          },
          "title": {
           "x": 0.05
          },
          "xaxis": {
           "automargin": true,
           "gridcolor": "white",
           "linecolor": "white",
           "ticks": "",
           "title": {
            "standoff": 15
           },
           "zerolinecolor": "white",
           "zerolinewidth": 2
          },
          "yaxis": {
           "automargin": true,
           "gridcolor": "white",
           "linecolor": "white",
           "ticks": "",
           "title": {
            "standoff": 15
           },
           "zerolinecolor": "white",
           "zerolinewidth": 2
          }
         }
        },
        "title": {
         "text": "Número de tuits por hora"
        }
       }
      },
      "text/html": [
       "<div>\n",
       "        \n",
       "        \n",
       "            <div id=\"bc09eb23-9b69-467d-a565-c4b30de74bfa\" class=\"plotly-graph-div\" style=\"height:525px; width:100%;\"></div>\n",
       "            <script type=\"text/javascript\">\n",
       "                require([\"plotly\"], function(Plotly) {\n",
       "                    window.PLOTLYENV=window.PLOTLYENV || {};\n",
       "                    \n",
       "                if (document.getElementById(\"bc09eb23-9b69-467d-a565-c4b30de74bfa\")) {\n",
       "                    Plotly.newPlot(\n",
       "                        'bc09eb23-9b69-467d-a565-c4b30de74bfa',\n",
       "                        [{\"hoverinfo\": \"text\", \"line\": {\"color\": \"red\"}, \"mode\": \"lines+markers\", \"name\": \"Horas\", \"text\": [\"Fecha: 00:14:00<br>Tuits: 1\", \"Fecha: 00:16:00<br>Tuits: 2\", \"Fecha: 00:17:00<br>Tuits: 1\", \"Fecha: 00:19:00<br>Tuits: 1\", \"Fecha: 00:22:00<br>Tuits: 2\", \"Fecha: 00:23:00<br>Tuits: 1\", \"Fecha: 00:24:00<br>Tuits: 1\", \"Fecha: 00:26:00<br>Tuits: 1\", \"Fecha: 00:27:00<br>Tuits: 1\", \"Fecha: 00:28:00<br>Tuits: 2\", \"Fecha: 00:32:00<br>Tuits: 1\", \"Fecha: 00:36:00<br>Tuits: 1\", \"Fecha: 00:37:00<br>Tuits: 1\", \"Fecha: 00:41:00<br>Tuits: 1\", \"Fecha: 00:43:00<br>Tuits: 2\", \"Fecha: 00:45:00<br>Tuits: 1\", \"Fecha: 00:47:00<br>Tuits: 1\", \"Fecha: 00:49:00<br>Tuits: 1\", \"Fecha: 00:55:00<br>Tuits: 1\", \"Fecha: 00:56:00<br>Tuits: 1\", \"Fecha: 01:00:00<br>Tuits: 2\", \"Fecha: 01:02:00<br>Tuits: 1\", \"Fecha: 01:04:00<br>Tuits: 2\", \"Fecha: 01:06:00<br>Tuits: 1\", \"Fecha: 01:07:00<br>Tuits: 1\", \"Fecha: 01:09:00<br>Tuits: 1\", \"Fecha: 01:12:00<br>Tuits: 1\", \"Fecha: 01:13:00<br>Tuits: 1\", \"Fecha: 01:17:00<br>Tuits: 1\", \"Fecha: 01:20:00<br>Tuits: 1\", \"Fecha: 01:22:00<br>Tuits: 2\", \"Fecha: 01:29:00<br>Tuits: 1\", \"Fecha: 01:34:00<br>Tuits: 1\", \"Fecha: 01:35:00<br>Tuits: 1\", \"Fecha: 01:37:00<br>Tuits: 1\", \"Fecha: 01:43:00<br>Tuits: 1\", \"Fecha: 01:44:00<br>Tuits: 1\", \"Fecha: 01:46:00<br>Tuits: 1\", \"Fecha: 01:47:00<br>Tuits: 2\", \"Fecha: 01:48:00<br>Tuits: 2\", \"Fecha: 01:52:00<br>Tuits: 2\", \"Fecha: 01:53:00<br>Tuits: 1\", \"Fecha: 01:59:00<br>Tuits: 2\", \"Fecha: 02:04:00<br>Tuits: 1\", \"Fecha: 02:11:00<br>Tuits: 3\", \"Fecha: 02:16:00<br>Tuits: 1\", \"Fecha: 02:20:00<br>Tuits: 1\", \"Fecha: 02:23:00<br>Tuits: 1\", \"Fecha: 02:25:00<br>Tuits: 1\", \"Fecha: 02:26:00<br>Tuits: 1\", \"Fecha: 02:28:00<br>Tuits: 1\", \"Fecha: 02:32:00<br>Tuits: 1\", \"Fecha: 02:33:00<br>Tuits: 2\", \"Fecha: 02:36:00<br>Tuits: 1\", \"Fecha: 02:37:00<br>Tuits: 1\", \"Fecha: 02:39:00<br>Tuits: 1\", \"Fecha: 02:41:00<br>Tuits: 2\", \"Fecha: 02:42:00<br>Tuits: 1\", \"Fecha: 02:47:00<br>Tuits: 2\", \"Fecha: 02:48:00<br>Tuits: 1\", \"Fecha: 02:50:00<br>Tuits: 2\", \"Fecha: 02:52:00<br>Tuits: 1\", \"Fecha: 02:55:00<br>Tuits: 2\", \"Fecha: 02:56:00<br>Tuits: 1\", \"Fecha: 02:57:00<br>Tuits: 1\", \"Fecha: 03:00:00<br>Tuits: 1\", \"Fecha: 03:03:00<br>Tuits: 1\", \"Fecha: 03:05:00<br>Tuits: 1\", \"Fecha: 03:07:00<br>Tuits: 2\", \"Fecha: 03:11:00<br>Tuits: 2\", \"Fecha: 03:12:00<br>Tuits: 1\", \"Fecha: 03:14:00<br>Tuits: 2\", \"Fecha: 03:15:00<br>Tuits: 1\", \"Fecha: 03:16:00<br>Tuits: 1\", \"Fecha: 03:17:00<br>Tuits: 1\", \"Fecha: 03:18:00<br>Tuits: 2\", \"Fecha: 03:19:00<br>Tuits: 1\", \"Fecha: 03:23:00<br>Tuits: 1\"], \"type\": \"scatter\", \"x\": [\"00:14:00\", \"00:16:00\", \"00:17:00\", \"00:19:00\", \"00:22:00\", \"00:23:00\", \"00:24:00\", \"00:26:00\", \"00:27:00\", \"00:28:00\", \"00:32:00\", \"00:36:00\", \"00:37:00\", \"00:41:00\", \"00:43:00\", \"00:45:00\", \"00:47:00\", \"00:49:00\", \"00:55:00\", \"00:56:00\", \"01:00:00\", \"01:02:00\", \"01:04:00\", \"01:06:00\", \"01:07:00\", \"01:09:00\", \"01:12:00\", \"01:13:00\", \"01:17:00\", \"01:20:00\", \"01:22:00\", \"01:29:00\", \"01:34:00\", \"01:35:00\", \"01:37:00\", \"01:43:00\", \"01:44:00\", \"01:46:00\", \"01:47:00\", \"01:48:00\", \"01:52:00\", \"01:53:00\", \"01:59:00\", \"02:04:00\", \"02:11:00\", \"02:16:00\", \"02:20:00\", \"02:23:00\", \"02:25:00\", \"02:26:00\", \"02:28:00\", \"02:32:00\", \"02:33:00\", \"02:36:00\", \"02:37:00\", \"02:39:00\", \"02:41:00\", \"02:42:00\", \"02:47:00\", \"02:48:00\", \"02:50:00\", \"02:52:00\", \"02:55:00\", \"02:56:00\", \"02:57:00\", \"03:00:00\", \"03:03:00\", \"03:05:00\", \"03:07:00\", \"03:11:00\", \"03:12:00\", \"03:14:00\", \"03:15:00\", \"03:16:00\", \"03:17:00\", \"03:18:00\", \"03:19:00\", \"03:23:00\"], \"y\": [1, 2, 1, 1, 2, 1, 1, 1, 1, 2, 1, 1, 1, 1, 2, 1, 1, 1, 1, 1, 2, 1, 2, 1, 1, 1, 1, 1, 1, 1, 2, 1, 1, 1, 1, 1, 1, 1, 2, 2, 2, 1, 2, 1, 3, 1, 1, 1, 1, 1, 1, 1, 2, 1, 1, 1, 2, 1, 2, 1, 2, 1, 2, 1, 1, 1, 1, 1, 2, 2, 1, 2, 1, 1, 1, 2, 1, 1]}],\n",
       "                        {\"template\": {\"data\": {\"bar\": [{\"error_x\": {\"color\": \"#2a3f5f\"}, \"error_y\": {\"color\": \"#2a3f5f\"}, \"marker\": {\"line\": {\"color\": \"#E5ECF6\", \"width\": 0.5}}, \"type\": \"bar\"}], \"barpolar\": [{\"marker\": {\"line\": {\"color\": \"#E5ECF6\", \"width\": 0.5}}, \"type\": \"barpolar\"}], \"carpet\": [{\"aaxis\": {\"endlinecolor\": \"#2a3f5f\", \"gridcolor\": \"white\", \"linecolor\": \"white\", \"minorgridcolor\": \"white\", \"startlinecolor\": \"#2a3f5f\"}, \"baxis\": {\"endlinecolor\": \"#2a3f5f\", \"gridcolor\": \"white\", \"linecolor\": \"white\", \"minorgridcolor\": \"white\", \"startlinecolor\": \"#2a3f5f\"}, \"type\": \"carpet\"}], \"choropleth\": [{\"colorbar\": {\"outlinewidth\": 0, \"ticks\": \"\"}, \"type\": \"choropleth\"}], \"contour\": [{\"colorbar\": {\"outlinewidth\": 0, \"ticks\": \"\"}, \"colorscale\": [[0.0, \"#0d0887\"], [0.1111111111111111, \"#46039f\"], [0.2222222222222222, \"#7201a8\"], [0.3333333333333333, \"#9c179e\"], [0.4444444444444444, \"#bd3786\"], [0.5555555555555556, \"#d8576b\"], [0.6666666666666666, \"#ed7953\"], [0.7777777777777778, \"#fb9f3a\"], [0.8888888888888888, \"#fdca26\"], [1.0, \"#f0f921\"]], \"type\": \"contour\"}], \"contourcarpet\": [{\"colorbar\": {\"outlinewidth\": 0, \"ticks\": \"\"}, \"type\": \"contourcarpet\"}], \"heatmap\": [{\"colorbar\": {\"outlinewidth\": 0, \"ticks\": \"\"}, \"colorscale\": [[0.0, \"#0d0887\"], [0.1111111111111111, \"#46039f\"], [0.2222222222222222, \"#7201a8\"], [0.3333333333333333, \"#9c179e\"], [0.4444444444444444, \"#bd3786\"], [0.5555555555555556, \"#d8576b\"], [0.6666666666666666, \"#ed7953\"], [0.7777777777777778, \"#fb9f3a\"], [0.8888888888888888, \"#fdca26\"], [1.0, \"#f0f921\"]], \"type\": \"heatmap\"}], \"heatmapgl\": [{\"colorbar\": {\"outlinewidth\": 0, \"ticks\": \"\"}, \"colorscale\": [[0.0, \"#0d0887\"], [0.1111111111111111, \"#46039f\"], [0.2222222222222222, \"#7201a8\"], [0.3333333333333333, \"#9c179e\"], [0.4444444444444444, \"#bd3786\"], [0.5555555555555556, \"#d8576b\"], [0.6666666666666666, \"#ed7953\"], [0.7777777777777778, \"#fb9f3a\"], [0.8888888888888888, \"#fdca26\"], [1.0, \"#f0f921\"]], \"type\": \"heatmapgl\"}], \"histogram\": [{\"marker\": {\"colorbar\": {\"outlinewidth\": 0, \"ticks\": \"\"}}, \"type\": \"histogram\"}], \"histogram2d\": [{\"colorbar\": {\"outlinewidth\": 0, \"ticks\": \"\"}, \"colorscale\": [[0.0, \"#0d0887\"], [0.1111111111111111, \"#46039f\"], [0.2222222222222222, \"#7201a8\"], [0.3333333333333333, \"#9c179e\"], [0.4444444444444444, \"#bd3786\"], [0.5555555555555556, \"#d8576b\"], [0.6666666666666666, \"#ed7953\"], [0.7777777777777778, \"#fb9f3a\"], [0.8888888888888888, \"#fdca26\"], [1.0, \"#f0f921\"]], \"type\": \"histogram2d\"}], \"histogram2dcontour\": [{\"colorbar\": {\"outlinewidth\": 0, \"ticks\": \"\"}, \"colorscale\": [[0.0, \"#0d0887\"], [0.1111111111111111, \"#46039f\"], [0.2222222222222222, \"#7201a8\"], [0.3333333333333333, \"#9c179e\"], [0.4444444444444444, \"#bd3786\"], [0.5555555555555556, \"#d8576b\"], [0.6666666666666666, \"#ed7953\"], [0.7777777777777778, \"#fb9f3a\"], [0.8888888888888888, \"#fdca26\"], [1.0, \"#f0f921\"]], \"type\": \"histogram2dcontour\"}], \"mesh3d\": [{\"colorbar\": {\"outlinewidth\": 0, \"ticks\": \"\"}, \"type\": \"mesh3d\"}], \"parcoords\": [{\"line\": {\"colorbar\": {\"outlinewidth\": 0, \"ticks\": \"\"}}, \"type\": \"parcoords\"}], \"pie\": [{\"automargin\": true, \"type\": \"pie\"}], \"scatter\": [{\"marker\": {\"colorbar\": {\"outlinewidth\": 0, \"ticks\": \"\"}}, \"type\": \"scatter\"}], \"scatter3d\": [{\"line\": {\"colorbar\": {\"outlinewidth\": 0, \"ticks\": \"\"}}, \"marker\": {\"colorbar\": {\"outlinewidth\": 0, \"ticks\": \"\"}}, \"type\": \"scatter3d\"}], \"scattercarpet\": [{\"marker\": {\"colorbar\": {\"outlinewidth\": 0, \"ticks\": \"\"}}, \"type\": \"scattercarpet\"}], \"scattergeo\": [{\"marker\": {\"colorbar\": {\"outlinewidth\": 0, \"ticks\": \"\"}}, \"type\": \"scattergeo\"}], \"scattergl\": [{\"marker\": {\"colorbar\": {\"outlinewidth\": 0, \"ticks\": \"\"}}, \"type\": \"scattergl\"}], \"scattermapbox\": [{\"marker\": {\"colorbar\": {\"outlinewidth\": 0, \"ticks\": \"\"}}, \"type\": \"scattermapbox\"}], \"scatterpolar\": [{\"marker\": {\"colorbar\": {\"outlinewidth\": 0, \"ticks\": \"\"}}, \"type\": \"scatterpolar\"}], \"scatterpolargl\": [{\"marker\": {\"colorbar\": {\"outlinewidth\": 0, \"ticks\": \"\"}}, \"type\": \"scatterpolargl\"}], \"scatterternary\": [{\"marker\": {\"colorbar\": {\"outlinewidth\": 0, \"ticks\": \"\"}}, \"type\": \"scatterternary\"}], \"surface\": [{\"colorbar\": {\"outlinewidth\": 0, \"ticks\": \"\"}, \"colorscale\": [[0.0, \"#0d0887\"], [0.1111111111111111, \"#46039f\"], [0.2222222222222222, \"#7201a8\"], [0.3333333333333333, \"#9c179e\"], [0.4444444444444444, \"#bd3786\"], [0.5555555555555556, \"#d8576b\"], [0.6666666666666666, \"#ed7953\"], [0.7777777777777778, \"#fb9f3a\"], [0.8888888888888888, \"#fdca26\"], [1.0, \"#f0f921\"]], \"type\": \"surface\"}], \"table\": [{\"cells\": {\"fill\": {\"color\": \"#EBF0F8\"}, \"line\": {\"color\": \"white\"}}, \"header\": {\"fill\": {\"color\": \"#C8D4E3\"}, \"line\": {\"color\": \"white\"}}, \"type\": \"table\"}]}, \"layout\": {\"annotationdefaults\": {\"arrowcolor\": \"#2a3f5f\", \"arrowhead\": 0, \"arrowwidth\": 1}, \"coloraxis\": {\"colorbar\": {\"outlinewidth\": 0, \"ticks\": \"\"}}, \"colorscale\": {\"diverging\": [[0, \"#8e0152\"], [0.1, \"#c51b7d\"], [0.2, \"#de77ae\"], [0.3, \"#f1b6da\"], [0.4, \"#fde0ef\"], [0.5, \"#f7f7f7\"], [0.6, \"#e6f5d0\"], [0.7, \"#b8e186\"], [0.8, \"#7fbc41\"], [0.9, \"#4d9221\"], [1, \"#276419\"]], \"sequential\": [[0.0, \"#0d0887\"], [0.1111111111111111, \"#46039f\"], [0.2222222222222222, \"#7201a8\"], [0.3333333333333333, \"#9c179e\"], [0.4444444444444444, \"#bd3786\"], [0.5555555555555556, \"#d8576b\"], [0.6666666666666666, \"#ed7953\"], [0.7777777777777778, \"#fb9f3a\"], [0.8888888888888888, \"#fdca26\"], [1.0, \"#f0f921\"]], \"sequentialminus\": [[0.0, \"#0d0887\"], [0.1111111111111111, \"#46039f\"], [0.2222222222222222, \"#7201a8\"], [0.3333333333333333, \"#9c179e\"], [0.4444444444444444, \"#bd3786\"], [0.5555555555555556, \"#d8576b\"], [0.6666666666666666, \"#ed7953\"], [0.7777777777777778, \"#fb9f3a\"], [0.8888888888888888, \"#fdca26\"], [1.0, \"#f0f921\"]]}, \"colorway\": [\"#636efa\", \"#EF553B\", \"#00cc96\", \"#ab63fa\", \"#FFA15A\", \"#19d3f3\", \"#FF6692\", \"#B6E880\", \"#FF97FF\", \"#FECB52\"], \"font\": {\"color\": \"#2a3f5f\"}, \"geo\": {\"bgcolor\": \"white\", \"lakecolor\": \"white\", \"landcolor\": \"#E5ECF6\", \"showlakes\": true, \"showland\": true, \"subunitcolor\": \"white\"}, \"hoverlabel\": {\"align\": \"left\"}, \"hovermode\": \"closest\", \"mapbox\": {\"style\": \"light\"}, \"paper_bgcolor\": \"white\", \"plot_bgcolor\": \"#E5ECF6\", \"polar\": {\"angularaxis\": {\"gridcolor\": \"white\", \"linecolor\": \"white\", \"ticks\": \"\"}, \"bgcolor\": \"#E5ECF6\", \"radialaxis\": {\"gridcolor\": \"white\", \"linecolor\": \"white\", \"ticks\": \"\"}}, \"scene\": {\"xaxis\": {\"backgroundcolor\": \"#E5ECF6\", \"gridcolor\": \"white\", \"gridwidth\": 2, \"linecolor\": \"white\", \"showbackground\": true, \"ticks\": \"\", \"zerolinecolor\": \"white\"}, \"yaxis\": {\"backgroundcolor\": \"#E5ECF6\", \"gridcolor\": \"white\", \"gridwidth\": 2, \"linecolor\": \"white\", \"showbackground\": true, \"ticks\": \"\", \"zerolinecolor\": \"white\"}, \"zaxis\": {\"backgroundcolor\": \"#E5ECF6\", \"gridcolor\": \"white\", \"gridwidth\": 2, \"linecolor\": \"white\", \"showbackground\": true, \"ticks\": \"\", \"zerolinecolor\": \"white\"}}, \"shapedefaults\": {\"line\": {\"color\": \"#2a3f5f\"}}, \"ternary\": {\"aaxis\": {\"gridcolor\": \"white\", \"linecolor\": \"white\", \"ticks\": \"\"}, \"baxis\": {\"gridcolor\": \"white\", \"linecolor\": \"white\", \"ticks\": \"\"}, \"bgcolor\": \"#E5ECF6\", \"caxis\": {\"gridcolor\": \"white\", \"linecolor\": \"white\", \"ticks\": \"\"}}, \"title\": {\"x\": 0.05}, \"xaxis\": {\"automargin\": true, \"gridcolor\": \"white\", \"linecolor\": \"white\", \"ticks\": \"\", \"title\": {\"standoff\": 15}, \"zerolinecolor\": \"white\", \"zerolinewidth\": 2}, \"yaxis\": {\"automargin\": true, \"gridcolor\": \"white\", \"linecolor\": \"white\", \"ticks\": \"\", \"title\": {\"standoff\": 15}, \"zerolinecolor\": \"white\", \"zerolinewidth\": 2}}}, \"title\": {\"text\": \"N\\u00famero de tuits por hora\"}},\n",
       "                        {\"responsive\": true}\n",
       "                    ).then(function(){\n",
       "                            \n",
       "var gd = document.getElementById('bc09eb23-9b69-467d-a565-c4b30de74bfa');\n",
       "var x = new MutationObserver(function (mutations, observer) {{\n",
       "        var display = window.getComputedStyle(gd).display;\n",
       "        if (!display || display === 'none') {{\n",
       "            console.log([gd, 'removed!']);\n",
       "            Plotly.purge(gd);\n",
       "            observer.disconnect();\n",
       "        }}\n",
       "}});\n",
       "\n",
       "// Listen for the removal of the full notebook cells\n",
       "var notebookContainer = gd.closest('#notebook-container');\n",
       "if (notebookContainer) {{\n",
       "    x.observe(notebookContainer, {childList: true});\n",
       "}}\n",
       "\n",
       "// Listen for the clearing of the current output cell\n",
       "var outputEl = gd.closest('.output');\n",
       "if (outputEl) {{\n",
       "    x.observe(outputEl, {childList: true});\n",
       "}}\n",
       "\n",
       "                        })\n",
       "                };\n",
       "                });\n",
       "            </script>\n",
       "        </div>"
      ]
     },
     "metadata": {},
     "output_type": "display_data"
    }
   ],
   "source": [
    "layout = go.Layout(title=\"Número de tuits por hora\")\n",
    "fig = go.Figure(data=[trace], layout=layout)\n",
    "iplot(fig)"
   ]
  },
  {
   "cell_type": "markdown",
   "metadata": {},
   "source": [
    "### Elaborado por: Sandra Karina Osorio Ch."
   ]
  }
 ],
 "metadata": {
  "kernelspec": {
   "display_name": "Python 3",
   "language": "python",
   "name": "python3"
  },
  "language_info": {
   "codemirror_mode": {
    "name": "ipython",
    "version": 3
   },
   "file_extension": ".py",
   "mimetype": "text/x-python",
   "name": "python",
   "nbconvert_exporter": "python",
   "pygments_lexer": "ipython3",
   "version": "3.8.8"
  }
 },
 "nbformat": 4,
 "nbformat_minor": 2
}
